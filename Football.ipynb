{
 "cells": [
  {
   "cell_type": "markdown",
   "id": "d6ce290e-9c3f-4722-9c69-b22638b80e1b",
   "metadata": {},
   "source": [
    "#### Importing Libraries"
   ]
  },
  {
   "cell_type": "code",
   "execution_count": 196,
   "id": "8090982f-b9fe-4948-8781-00079c128469",
   "metadata": {},
   "outputs": [],
   "source": [
    "import pandas as pd\n",
    "import numpy as np\n",
    "import matplotlib.pyplot as plt\n",
    "import seaborn as sns"
   ]
  },
  {
   "cell_type": "markdown",
   "id": "89fae28b-9c2e-40a9-b761-c73daac5d420",
   "metadata": {},
   "source": [
    "#### Loading Dataset"
   ]
  },
  {
   "cell_type": "code",
   "execution_count": 14,
   "id": "a96afff6-ab34-4c88-9ace-14402f0331ab",
   "metadata": {},
   "outputs": [],
   "source": [
    "appearances = pd.read_csv('appearances.csv')\n",
    "club_games = pd.read_csv('club_games.csv')\n",
    "clubs = pd.read_csv('clubs.csv')\n",
    "competitions = pd.read_csv('competitions.csv')\n",
    "game_events = pd.read_csv('game_events.csv')\n",
    "game_lineups = pd.read_csv('game_lineups.csv')\n",
    "games = pd.read_csv('games.csv')\n",
    "player_valuations = pd.read_csv('player_valuations.csv')\n",
    "players = pd.read_csv('players.csv')\n",
    "transfers = pd.read_csv('transfers.csv')"
   ]
  },
  {
   "cell_type": "markdown",
   "id": "946c6efa-cf29-4466-8804-2f8f6ea7abc8",
   "metadata": {},
   "source": [
    "#### Understanding dataframes"
   ]
  },
  {
   "cell_type": "code",
   "execution_count": 16,
   "id": "ceda9d75-6c78-4559-a2d9-64108ee6ed9a",
   "metadata": {},
   "outputs": [
    {
     "data": {
      "text/html": [
       "<div>\n",
       "<style scoped>\n",
       "    .dataframe tbody tr th:only-of-type {\n",
       "        vertical-align: middle;\n",
       "    }\n",
       "\n",
       "    .dataframe tbody tr th {\n",
       "        vertical-align: top;\n",
       "    }\n",
       "\n",
       "    .dataframe thead th {\n",
       "        text-align: right;\n",
       "    }\n",
       "</style>\n",
       "<table border=\"1\" class=\"dataframe\">\n",
       "  <thead>\n",
       "    <tr style=\"text-align: right;\">\n",
       "      <th></th>\n",
       "      <th>appearance_id</th>\n",
       "      <th>game_id</th>\n",
       "      <th>player_id</th>\n",
       "      <th>player_club_id</th>\n",
       "      <th>player_current_club_id</th>\n",
       "      <th>date</th>\n",
       "      <th>player_name</th>\n",
       "      <th>competition_id</th>\n",
       "      <th>yellow_cards</th>\n",
       "      <th>red_cards</th>\n",
       "      <th>goals</th>\n",
       "      <th>assists</th>\n",
       "      <th>minutes_played</th>\n",
       "    </tr>\n",
       "  </thead>\n",
       "  <tbody>\n",
       "    <tr>\n",
       "      <th>0</th>\n",
       "      <td>2231978_38004</td>\n",
       "      <td>2231978</td>\n",
       "      <td>38004</td>\n",
       "      <td>853</td>\n",
       "      <td>235</td>\n",
       "      <td>2012-07-03</td>\n",
       "      <td>Aurélien Joachim</td>\n",
       "      <td>CLQ</td>\n",
       "      <td>0</td>\n",
       "      <td>0</td>\n",
       "      <td>2</td>\n",
       "      <td>0</td>\n",
       "      <td>90</td>\n",
       "    </tr>\n",
       "    <tr>\n",
       "      <th>1</th>\n",
       "      <td>2233748_79232</td>\n",
       "      <td>2233748</td>\n",
       "      <td>79232</td>\n",
       "      <td>8841</td>\n",
       "      <td>2698</td>\n",
       "      <td>2012-07-05</td>\n",
       "      <td>Ruslan Abyshov</td>\n",
       "      <td>ELQ</td>\n",
       "      <td>0</td>\n",
       "      <td>0</td>\n",
       "      <td>0</td>\n",
       "      <td>0</td>\n",
       "      <td>90</td>\n",
       "    </tr>\n",
       "    <tr>\n",
       "      <th>2</th>\n",
       "      <td>2234413_42792</td>\n",
       "      <td>2234413</td>\n",
       "      <td>42792</td>\n",
       "      <td>6251</td>\n",
       "      <td>465</td>\n",
       "      <td>2012-07-05</td>\n",
       "      <td>Sander Puri</td>\n",
       "      <td>ELQ</td>\n",
       "      <td>0</td>\n",
       "      <td>0</td>\n",
       "      <td>0</td>\n",
       "      <td>0</td>\n",
       "      <td>45</td>\n",
       "    </tr>\n",
       "    <tr>\n",
       "      <th>3</th>\n",
       "      <td>2234418_73333</td>\n",
       "      <td>2234418</td>\n",
       "      <td>73333</td>\n",
       "      <td>1274</td>\n",
       "      <td>6646</td>\n",
       "      <td>2012-07-05</td>\n",
       "      <td>Vegar Hedenstad</td>\n",
       "      <td>ELQ</td>\n",
       "      <td>0</td>\n",
       "      <td>0</td>\n",
       "      <td>0</td>\n",
       "      <td>0</td>\n",
       "      <td>90</td>\n",
       "    </tr>\n",
       "    <tr>\n",
       "      <th>4</th>\n",
       "      <td>2234421_122011</td>\n",
       "      <td>2234421</td>\n",
       "      <td>122011</td>\n",
       "      <td>195</td>\n",
       "      <td>3008</td>\n",
       "      <td>2012-07-05</td>\n",
       "      <td>Markus Henriksen</td>\n",
       "      <td>ELQ</td>\n",
       "      <td>0</td>\n",
       "      <td>0</td>\n",
       "      <td>0</td>\n",
       "      <td>1</td>\n",
       "      <td>90</td>\n",
       "    </tr>\n",
       "  </tbody>\n",
       "</table>\n",
       "</div>"
      ],
      "text/plain": [
       "    appearance_id  game_id  player_id  player_club_id  player_current_club_id  \\\n",
       "0   2231978_38004  2231978      38004             853                     235   \n",
       "1   2233748_79232  2233748      79232            8841                    2698   \n",
       "2   2234413_42792  2234413      42792            6251                     465   \n",
       "3   2234418_73333  2234418      73333            1274                    6646   \n",
       "4  2234421_122011  2234421     122011             195                    3008   \n",
       "\n",
       "         date       player_name competition_id  yellow_cards  red_cards  \\\n",
       "0  2012-07-03  Aurélien Joachim            CLQ             0          0   \n",
       "1  2012-07-05    Ruslan Abyshov            ELQ             0          0   \n",
       "2  2012-07-05       Sander Puri            ELQ             0          0   \n",
       "3  2012-07-05   Vegar Hedenstad            ELQ             0          0   \n",
       "4  2012-07-05  Markus Henriksen            ELQ             0          0   \n",
       "\n",
       "   goals  assists  minutes_played  \n",
       "0      2        0              90  \n",
       "1      0        0              90  \n",
       "2      0        0              45  \n",
       "3      0        0              90  \n",
       "4      0        1              90  "
      ]
     },
     "execution_count": 16,
     "metadata": {},
     "output_type": "execute_result"
    }
   ],
   "source": [
    "appearances.head()"
   ]
  },
  {
   "cell_type": "code",
   "execution_count": 17,
   "id": "7fe32936-aec6-45f3-bdc5-a56d5cf4e8fb",
   "metadata": {},
   "outputs": [
    {
     "data": {
      "text/html": [
       "<div>\n",
       "<style scoped>\n",
       "    .dataframe tbody tr th:only-of-type {\n",
       "        vertical-align: middle;\n",
       "    }\n",
       "\n",
       "    .dataframe tbody tr th {\n",
       "        vertical-align: top;\n",
       "    }\n",
       "\n",
       "    .dataframe thead th {\n",
       "        text-align: right;\n",
       "    }\n",
       "</style>\n",
       "<table border=\"1\" class=\"dataframe\">\n",
       "  <thead>\n",
       "    <tr style=\"text-align: right;\">\n",
       "      <th></th>\n",
       "      <th>player_id</th>\n",
       "      <th>first_name</th>\n",
       "      <th>last_name</th>\n",
       "      <th>name</th>\n",
       "      <th>last_season</th>\n",
       "      <th>current_club_id</th>\n",
       "      <th>player_code</th>\n",
       "      <th>country_of_birth</th>\n",
       "      <th>city_of_birth</th>\n",
       "      <th>country_of_citizenship</th>\n",
       "      <th>...</th>\n",
       "      <th>foot</th>\n",
       "      <th>height_in_cm</th>\n",
       "      <th>contract_expiration_date</th>\n",
       "      <th>agent_name</th>\n",
       "      <th>image_url</th>\n",
       "      <th>url</th>\n",
       "      <th>current_club_domestic_competition_id</th>\n",
       "      <th>current_club_name</th>\n",
       "      <th>market_value_in_eur</th>\n",
       "      <th>highest_market_value_in_eur</th>\n",
       "    </tr>\n",
       "  </thead>\n",
       "  <tbody>\n",
       "    <tr>\n",
       "      <th>0</th>\n",
       "      <td>10</td>\n",
       "      <td>Miroslav</td>\n",
       "      <td>Klose</td>\n",
       "      <td>Miroslav Klose</td>\n",
       "      <td>2015</td>\n",
       "      <td>398</td>\n",
       "      <td>miroslav-klose</td>\n",
       "      <td>Poland</td>\n",
       "      <td>Opole</td>\n",
       "      <td>Germany</td>\n",
       "      <td>...</td>\n",
       "      <td>right</td>\n",
       "      <td>184.0</td>\n",
       "      <td>NaN</td>\n",
       "      <td>ASBW Sport Marketing</td>\n",
       "      <td>https://img.a.transfermarkt.technology/portrai...</td>\n",
       "      <td>https://www.transfermarkt.co.uk/miroslav-klose...</td>\n",
       "      <td>IT1</td>\n",
       "      <td>Società Sportiva Lazio S.p.A.</td>\n",
       "      <td>1000000.0</td>\n",
       "      <td>30000000.0</td>\n",
       "    </tr>\n",
       "    <tr>\n",
       "      <th>1</th>\n",
       "      <td>26</td>\n",
       "      <td>Roman</td>\n",
       "      <td>Weidenfeller</td>\n",
       "      <td>Roman Weidenfeller</td>\n",
       "      <td>2017</td>\n",
       "      <td>16</td>\n",
       "      <td>roman-weidenfeller</td>\n",
       "      <td>Germany</td>\n",
       "      <td>Diez</td>\n",
       "      <td>Germany</td>\n",
       "      <td>...</td>\n",
       "      <td>left</td>\n",
       "      <td>190.0</td>\n",
       "      <td>NaN</td>\n",
       "      <td>Neubauer 13 GmbH</td>\n",
       "      <td>https://img.a.transfermarkt.technology/portrai...</td>\n",
       "      <td>https://www.transfermarkt.co.uk/roman-weidenfe...</td>\n",
       "      <td>L1</td>\n",
       "      <td>Borussia Dortmund</td>\n",
       "      <td>750000.0</td>\n",
       "      <td>8000000.0</td>\n",
       "    </tr>\n",
       "    <tr>\n",
       "      <th>2</th>\n",
       "      <td>65</td>\n",
       "      <td>Dimitar</td>\n",
       "      <td>Berbatov</td>\n",
       "      <td>Dimitar Berbatov</td>\n",
       "      <td>2015</td>\n",
       "      <td>1091</td>\n",
       "      <td>dimitar-berbatov</td>\n",
       "      <td>Bulgaria</td>\n",
       "      <td>Blagoevgrad</td>\n",
       "      <td>Bulgaria</td>\n",
       "      <td>...</td>\n",
       "      <td>NaN</td>\n",
       "      <td>NaN</td>\n",
       "      <td>NaN</td>\n",
       "      <td>CSKA-AS-23 Ltd.</td>\n",
       "      <td>https://img.a.transfermarkt.technology/portrai...</td>\n",
       "      <td>https://www.transfermarkt.co.uk/dimitar-berbat...</td>\n",
       "      <td>GR1</td>\n",
       "      <td>Panthessalonikios Athlitikos Omilos Konstantin...</td>\n",
       "      <td>1000000.0</td>\n",
       "      <td>34500000.0</td>\n",
       "    </tr>\n",
       "    <tr>\n",
       "      <th>3</th>\n",
       "      <td>77</td>\n",
       "      <td>NaN</td>\n",
       "      <td>Lúcio</td>\n",
       "      <td>Lúcio</td>\n",
       "      <td>2012</td>\n",
       "      <td>506</td>\n",
       "      <td>lucio</td>\n",
       "      <td>Brazil</td>\n",
       "      <td>Brasília</td>\n",
       "      <td>Brazil</td>\n",
       "      <td>...</td>\n",
       "      <td>NaN</td>\n",
       "      <td>NaN</td>\n",
       "      <td>NaN</td>\n",
       "      <td>NaN</td>\n",
       "      <td>https://img.a.transfermarkt.technology/portrai...</td>\n",
       "      <td>https://www.transfermarkt.co.uk/lucio/profil/s...</td>\n",
       "      <td>IT1</td>\n",
       "      <td>Juventus Football Club</td>\n",
       "      <td>200000.0</td>\n",
       "      <td>24500000.0</td>\n",
       "    </tr>\n",
       "    <tr>\n",
       "      <th>4</th>\n",
       "      <td>80</td>\n",
       "      <td>Tom</td>\n",
       "      <td>Starke</td>\n",
       "      <td>Tom Starke</td>\n",
       "      <td>2017</td>\n",
       "      <td>27</td>\n",
       "      <td>tom-starke</td>\n",
       "      <td>East Germany (GDR)</td>\n",
       "      <td>Freital</td>\n",
       "      <td>Germany</td>\n",
       "      <td>...</td>\n",
       "      <td>right</td>\n",
       "      <td>194.0</td>\n",
       "      <td>NaN</td>\n",
       "      <td>IFM</td>\n",
       "      <td>https://img.a.transfermarkt.technology/portrai...</td>\n",
       "      <td>https://www.transfermarkt.co.uk/tom-starke/pro...</td>\n",
       "      <td>L1</td>\n",
       "      <td>FC Bayern München</td>\n",
       "      <td>100000.0</td>\n",
       "      <td>3000000.0</td>\n",
       "    </tr>\n",
       "  </tbody>\n",
       "</table>\n",
       "<p>5 rows × 23 columns</p>\n",
       "</div>"
      ],
      "text/plain": [
       "   player_id first_name     last_name                name  last_season  \\\n",
       "0         10   Miroslav         Klose      Miroslav Klose         2015   \n",
       "1         26      Roman  Weidenfeller  Roman Weidenfeller         2017   \n",
       "2         65    Dimitar      Berbatov    Dimitar Berbatov         2015   \n",
       "3         77        NaN         Lúcio               Lúcio         2012   \n",
       "4         80        Tom        Starke          Tom Starke         2017   \n",
       "\n",
       "   current_club_id         player_code    country_of_birth city_of_birth  \\\n",
       "0              398      miroslav-klose              Poland         Opole   \n",
       "1               16  roman-weidenfeller             Germany          Diez   \n",
       "2             1091    dimitar-berbatov            Bulgaria   Blagoevgrad   \n",
       "3              506               lucio              Brazil      Brasília   \n",
       "4               27          tom-starke  East Germany (GDR)       Freital   \n",
       "\n",
       "  country_of_citizenship  ...   foot height_in_cm contract_expiration_date  \\\n",
       "0                Germany  ...  right        184.0                      NaN   \n",
       "1                Germany  ...   left        190.0                      NaN   \n",
       "2               Bulgaria  ...    NaN          NaN                      NaN   \n",
       "3                 Brazil  ...    NaN          NaN                      NaN   \n",
       "4                Germany  ...  right        194.0                      NaN   \n",
       "\n",
       "             agent_name                                          image_url  \\\n",
       "0  ASBW Sport Marketing  https://img.a.transfermarkt.technology/portrai...   \n",
       "1      Neubauer 13 GmbH  https://img.a.transfermarkt.technology/portrai...   \n",
       "2       CSKA-AS-23 Ltd.  https://img.a.transfermarkt.technology/portrai...   \n",
       "3                   NaN  https://img.a.transfermarkt.technology/portrai...   \n",
       "4                   IFM  https://img.a.transfermarkt.technology/portrai...   \n",
       "\n",
       "                                                 url  \\\n",
       "0  https://www.transfermarkt.co.uk/miroslav-klose...   \n",
       "1  https://www.transfermarkt.co.uk/roman-weidenfe...   \n",
       "2  https://www.transfermarkt.co.uk/dimitar-berbat...   \n",
       "3  https://www.transfermarkt.co.uk/lucio/profil/s...   \n",
       "4  https://www.transfermarkt.co.uk/tom-starke/pro...   \n",
       "\n",
       "  current_club_domestic_competition_id  \\\n",
       "0                                  IT1   \n",
       "1                                   L1   \n",
       "2                                  GR1   \n",
       "3                                  IT1   \n",
       "4                                   L1   \n",
       "\n",
       "                                   current_club_name market_value_in_eur  \\\n",
       "0                      Società Sportiva Lazio S.p.A.           1000000.0   \n",
       "1                                  Borussia Dortmund            750000.0   \n",
       "2  Panthessalonikios Athlitikos Omilos Konstantin...           1000000.0   \n",
       "3                             Juventus Football Club            200000.0   \n",
       "4                                  FC Bayern München            100000.0   \n",
       "\n",
       "  highest_market_value_in_eur  \n",
       "0                  30000000.0  \n",
       "1                   8000000.0  \n",
       "2                  34500000.0  \n",
       "3                  24500000.0  \n",
       "4                   3000000.0  \n",
       "\n",
       "[5 rows x 23 columns]"
      ]
     },
     "execution_count": 17,
     "metadata": {},
     "output_type": "execute_result"
    }
   ],
   "source": [
    "players.head()"
   ]
  },
  {
   "cell_type": "code",
   "execution_count": 18,
   "id": "49338359-4cfb-44fa-bf7c-e4805e086cb2",
   "metadata": {},
   "outputs": [
    {
     "data": {
      "text/html": [
       "<div>\n",
       "<style scoped>\n",
       "    .dataframe tbody tr th:only-of-type {\n",
       "        vertical-align: middle;\n",
       "    }\n",
       "\n",
       "    .dataframe tbody tr th {\n",
       "        vertical-align: top;\n",
       "    }\n",
       "\n",
       "    .dataframe thead th {\n",
       "        text-align: right;\n",
       "    }\n",
       "</style>\n",
       "<table border=\"1\" class=\"dataframe\">\n",
       "  <thead>\n",
       "    <tr style=\"text-align: right;\">\n",
       "      <th></th>\n",
       "      <th>game_id</th>\n",
       "      <th>competition_id</th>\n",
       "      <th>season</th>\n",
       "      <th>round</th>\n",
       "      <th>date</th>\n",
       "      <th>home_club_id</th>\n",
       "      <th>away_club_id</th>\n",
       "      <th>home_club_goals</th>\n",
       "      <th>away_club_goals</th>\n",
       "      <th>home_club_position</th>\n",
       "      <th>...</th>\n",
       "      <th>stadium</th>\n",
       "      <th>attendance</th>\n",
       "      <th>referee</th>\n",
       "      <th>url</th>\n",
       "      <th>home_club_formation</th>\n",
       "      <th>away_club_formation</th>\n",
       "      <th>home_club_name</th>\n",
       "      <th>away_club_name</th>\n",
       "      <th>aggregate</th>\n",
       "      <th>competition_type</th>\n",
       "    </tr>\n",
       "  </thead>\n",
       "  <tbody>\n",
       "    <tr>\n",
       "      <th>0</th>\n",
       "      <td>2321027</td>\n",
       "      <td>L1</td>\n",
       "      <td>2013</td>\n",
       "      <td>1. Matchday</td>\n",
       "      <td>2013-08-11</td>\n",
       "      <td>33.0</td>\n",
       "      <td>41.0</td>\n",
       "      <td>3.0</td>\n",
       "      <td>3.0</td>\n",
       "      <td>8.0</td>\n",
       "      <td>...</td>\n",
       "      <td>Veltins-Arena</td>\n",
       "      <td>61973.0</td>\n",
       "      <td>Manuel Gräfe</td>\n",
       "      <td>https://www.transfermarkt.co.uk/fc-schalke-04_...</td>\n",
       "      <td>4-2-3-1</td>\n",
       "      <td>4-2-3-1</td>\n",
       "      <td>FC Schalke 04</td>\n",
       "      <td>Hamburger SV</td>\n",
       "      <td>3:3</td>\n",
       "      <td>domestic_league</td>\n",
       "    </tr>\n",
       "    <tr>\n",
       "      <th>1</th>\n",
       "      <td>2321033</td>\n",
       "      <td>L1</td>\n",
       "      <td>2013</td>\n",
       "      <td>1. Matchday</td>\n",
       "      <td>2013-08-10</td>\n",
       "      <td>23.0</td>\n",
       "      <td>86.0</td>\n",
       "      <td>0.0</td>\n",
       "      <td>1.0</td>\n",
       "      <td>13.0</td>\n",
       "      <td>...</td>\n",
       "      <td>EINTRACHT-Stadion</td>\n",
       "      <td>23000.0</td>\n",
       "      <td>Deniz Aytekin</td>\n",
       "      <td>https://www.transfermarkt.co.uk/eintracht-brau...</td>\n",
       "      <td>4-3-2-1</td>\n",
       "      <td>4-3-1-2</td>\n",
       "      <td>Eintracht Braunschweig</td>\n",
       "      <td>Sportverein Werder Bremen von 1899</td>\n",
       "      <td>0:1</td>\n",
       "      <td>domestic_league</td>\n",
       "    </tr>\n",
       "    <tr>\n",
       "      <th>2</th>\n",
       "      <td>2321044</td>\n",
       "      <td>L1</td>\n",
       "      <td>2013</td>\n",
       "      <td>2. Matchday</td>\n",
       "      <td>2013-08-18</td>\n",
       "      <td>16.0</td>\n",
       "      <td>23.0</td>\n",
       "      <td>2.0</td>\n",
       "      <td>1.0</td>\n",
       "      <td>1.0</td>\n",
       "      <td>...</td>\n",
       "      <td>SIGNAL IDUNA PARK</td>\n",
       "      <td>80200.0</td>\n",
       "      <td>Peter Sippel</td>\n",
       "      <td>https://www.transfermarkt.co.uk/borussia-dortm...</td>\n",
       "      <td>4-2-3-1</td>\n",
       "      <td>4-3-2-1</td>\n",
       "      <td>Borussia Dortmund</td>\n",
       "      <td>Eintracht Braunschweig</td>\n",
       "      <td>2:1</td>\n",
       "      <td>domestic_league</td>\n",
       "    </tr>\n",
       "    <tr>\n",
       "      <th>3</th>\n",
       "      <td>2321060</td>\n",
       "      <td>L1</td>\n",
       "      <td>2013</td>\n",
       "      <td>3. Matchday</td>\n",
       "      <td>2013-08-25</td>\n",
       "      <td>23.0</td>\n",
       "      <td>24.0</td>\n",
       "      <td>0.0</td>\n",
       "      <td>2.0</td>\n",
       "      <td>18.0</td>\n",
       "      <td>...</td>\n",
       "      <td>EINTRACHT-Stadion</td>\n",
       "      <td>23325.0</td>\n",
       "      <td>Wolfgang Stark</td>\n",
       "      <td>https://www.transfermarkt.co.uk/eintracht-brau...</td>\n",
       "      <td>4-3-2-1</td>\n",
       "      <td>4-2-3-1</td>\n",
       "      <td>Eintracht Braunschweig</td>\n",
       "      <td>Eintracht Frankfurt Fußball AG</td>\n",
       "      <td>0:2</td>\n",
       "      <td>domestic_league</td>\n",
       "    </tr>\n",
       "    <tr>\n",
       "      <th>4</th>\n",
       "      <td>2321072</td>\n",
       "      <td>L1</td>\n",
       "      <td>2013</td>\n",
       "      <td>5. Matchday</td>\n",
       "      <td>2013-09-14</td>\n",
       "      <td>16.0</td>\n",
       "      <td>41.0</td>\n",
       "      <td>6.0</td>\n",
       "      <td>2.0</td>\n",
       "      <td>1.0</td>\n",
       "      <td>...</td>\n",
       "      <td>SIGNAL IDUNA PARK</td>\n",
       "      <td>80645.0</td>\n",
       "      <td>Tobias Welz</td>\n",
       "      <td>https://www.transfermarkt.co.uk/borussia-dortm...</td>\n",
       "      <td>4-2-3-1</td>\n",
       "      <td>3-5-2</td>\n",
       "      <td>Borussia Dortmund</td>\n",
       "      <td>Hamburger SV</td>\n",
       "      <td>6:2</td>\n",
       "      <td>domestic_league</td>\n",
       "    </tr>\n",
       "  </tbody>\n",
       "</table>\n",
       "<p>5 rows × 23 columns</p>\n",
       "</div>"
      ],
      "text/plain": [
       "   game_id competition_id  season        round        date  home_club_id  \\\n",
       "0  2321027             L1    2013  1. Matchday  2013-08-11          33.0   \n",
       "1  2321033             L1    2013  1. Matchday  2013-08-10          23.0   \n",
       "2  2321044             L1    2013  2. Matchday  2013-08-18          16.0   \n",
       "3  2321060             L1    2013  3. Matchday  2013-08-25          23.0   \n",
       "4  2321072             L1    2013  5. Matchday  2013-09-14          16.0   \n",
       "\n",
       "   away_club_id  home_club_goals  away_club_goals  home_club_position  ...  \\\n",
       "0          41.0              3.0              3.0                 8.0  ...   \n",
       "1          86.0              0.0              1.0                13.0  ...   \n",
       "2          23.0              2.0              1.0                 1.0  ...   \n",
       "3          24.0              0.0              2.0                18.0  ...   \n",
       "4          41.0              6.0              2.0                 1.0  ...   \n",
       "\n",
       "             stadium attendance         referee  \\\n",
       "0      Veltins-Arena    61973.0    Manuel Gräfe   \n",
       "1  EINTRACHT-Stadion    23000.0   Deniz Aytekin   \n",
       "2  SIGNAL IDUNA PARK    80200.0    Peter Sippel   \n",
       "3  EINTRACHT-Stadion    23325.0  Wolfgang Stark   \n",
       "4  SIGNAL IDUNA PARK    80645.0     Tobias Welz   \n",
       "\n",
       "                                                 url  home_club_formation  \\\n",
       "0  https://www.transfermarkt.co.uk/fc-schalke-04_...              4-2-3-1   \n",
       "1  https://www.transfermarkt.co.uk/eintracht-brau...              4-3-2-1   \n",
       "2  https://www.transfermarkt.co.uk/borussia-dortm...              4-2-3-1   \n",
       "3  https://www.transfermarkt.co.uk/eintracht-brau...              4-3-2-1   \n",
       "4  https://www.transfermarkt.co.uk/borussia-dortm...              4-2-3-1   \n",
       "\n",
       "  away_club_formation          home_club_name  \\\n",
       "0             4-2-3-1           FC Schalke 04   \n",
       "1             4-3-1-2  Eintracht Braunschweig   \n",
       "2             4-3-2-1       Borussia Dortmund   \n",
       "3             4-2-3-1  Eintracht Braunschweig   \n",
       "4               3-5-2       Borussia Dortmund   \n",
       "\n",
       "                       away_club_name aggregate competition_type  \n",
       "0                        Hamburger SV       3:3  domestic_league  \n",
       "1  Sportverein Werder Bremen von 1899       0:1  domestic_league  \n",
       "2              Eintracht Braunschweig       2:1  domestic_league  \n",
       "3      Eintracht Frankfurt Fußball AG       0:2  domestic_league  \n",
       "4                        Hamburger SV       6:2  domestic_league  \n",
       "\n",
       "[5 rows x 23 columns]"
      ]
     },
     "execution_count": 18,
     "metadata": {},
     "output_type": "execute_result"
    }
   ],
   "source": [
    "games.head()"
   ]
  },
  {
   "cell_type": "markdown",
   "id": "36a5dc1b-6522-475d-b0d4-e79d7112ea41",
   "metadata": {},
   "source": [
    "### checking if dataframes have null of Not a Number values"
   ]
  },
  {
   "cell_type": "markdown",
   "id": "597c1161-2426-47ca-982c-44c92e8733e2",
   "metadata": {},
   "source": [
    "### Appearances dataframe"
   ]
  },
  {
   "cell_type": "code",
   "execution_count": 21,
   "id": "ea124fe3-8f76-4320-96ad-cae91fbdc69a",
   "metadata": {},
   "outputs": [
    {
     "name": "stdout",
     "output_type": "stream",
     "text": [
      "appearance_id             0\n",
      "game_id                   0\n",
      "player_id                 0\n",
      "player_club_id            0\n",
      "player_current_club_id    0\n",
      "date                      0\n",
      "player_name               6\n",
      "competition_id            0\n",
      "yellow_cards              0\n",
      "red_cards                 0\n",
      "goals                     0\n",
      "assists                   0\n",
      "minutes_played            0\n",
      "dtype: int64\n"
     ]
    }
   ],
   "source": [
    "print(appearances.isna().sum())"
   ]
  },
  {
   "cell_type": "markdown",
   "id": "61e96805-c534-4905-9e90-9710d1be3acb",
   "metadata": {},
   "source": [
    "#### As we can see appearances dataset have 6 null values in player name, since its only 6 players we can drop those 6 rows."
   ]
  },
  {
   "cell_type": "code",
   "execution_count": 23,
   "id": "cbfba205-0112-4d98-b63c-459c2ade010e",
   "metadata": {},
   "outputs": [],
   "source": [
    "appearances = appearances.dropna(subset=['player_name'])"
   ]
  },
  {
   "cell_type": "code",
   "execution_count": 24,
   "id": "a44987a8-45e1-4981-8466-56009b9a9691",
   "metadata": {},
   "outputs": [
    {
     "name": "stdout",
     "output_type": "stream",
     "text": [
      "appearance_id             0\n",
      "game_id                   0\n",
      "player_id                 0\n",
      "player_club_id            0\n",
      "player_current_club_id    0\n",
      "date                      0\n",
      "player_name               0\n",
      "competition_id            0\n",
      "yellow_cards              0\n",
      "red_cards                 0\n",
      "goals                     0\n",
      "assists                   0\n",
      "minutes_played            0\n",
      "dtype: int64\n"
     ]
    }
   ],
   "source": [
    "print(appearances.isna().sum()) # now we dont have any null of NaN values in appearances dataframe."
   ]
  },
  {
   "cell_type": "code",
   "execution_count": 25,
   "id": "95b046f6-afa9-491d-8fd9-bded61ceeb11",
   "metadata": {},
   "outputs": [
    {
     "name": "stdout",
     "output_type": "stream",
     "text": [
      "player_id                                   0\n",
      "first_name                               2060\n",
      "last_name                                   0\n",
      "name                                        0\n",
      "last_season                                 0\n",
      "current_club_id                             0\n",
      "player_code                                 0\n",
      "country_of_birth                         2785\n",
      "city_of_birth                            2445\n",
      "country_of_citizenship                    379\n",
      "date_of_birth                              47\n",
      "sub_position                              183\n",
      "position                                    0\n",
      "foot                                     2562\n",
      "height_in_cm                             2299\n",
      "contract_expiration_date                12103\n",
      "agent_name                              15987\n",
      "image_url                                   0\n",
      "url                                         0\n",
      "current_club_domestic_competition_id        0\n",
      "current_club_name                           0\n",
      "market_value_in_eur                      1518\n",
      "highest_market_value_in_eur              1518\n",
      "dtype: int64\n"
     ]
    }
   ],
   "source": [
    "print(players.isna().sum())"
   ]
  },
  {
   "cell_type": "code",
   "execution_count": 26,
   "id": "cfa5ce8b-875c-441f-9b6b-b8165e471345",
   "metadata": {},
   "outputs": [
    {
     "name": "stdout",
     "output_type": "stream",
     "text": [
      "       player_id first_name        last_name             name  last_season  \\\n",
      "3             77        NaN            Lúcio            Lúcio         2012   \n",
      "5            109        NaN             Dedê             Dedê         2013   \n",
      "65          1426        NaN            Cacau            Cacau         2013   \n",
      "79          1613        NaN           Vivian           Vivian         2013   \n",
      "153         3165        NaN             Cris             Cris         2012   \n",
      "...          ...        ...              ...              ...          ...   \n",
      "32226    1159022        NaN  Mateus Lusuardi  Mateus Lusuardi         2023   \n",
      "32227    1159044        NaN         Peixinho         Peixinho         2023   \n",
      "32229    1159449        NaN             Samu             Samu         2024   \n",
      "32330    1193867        NaN       Pedro Lima       Pedro Lima         2024   \n",
      "32423    1302421        NaN        João Neto        João Neto         2024   \n",
      "\n",
      "       current_club_id      player_code country_of_birth    city_of_birth  \\\n",
      "3                  506            lucio           Brazil         Brasília   \n",
      "5                  825             dede           Brazil   Belo Horizonte   \n",
      "65                  79            cacau           Brazil      Santo André   \n",
      "79                 855           vivian           Brazil  Caçapava do Sul   \n",
      "153                141             cris           Brazil        Guarulhos   \n",
      "...                ...              ...              ...              ...   \n",
      "32226             8970  mateus-lusuardi              NaN              NaN   \n",
      "32227             2424         peixinho         Portugal         Gondomar   \n",
      "32229             3268             samu         Portugal           Almada   \n",
      "32330              543       pedro-lima           Brazil         Cabedelo   \n",
      "32423             6992        joao-neto              NaN              NaN   \n",
      "\n",
      "      country_of_citizenship  ...   foot height_in_cm  \\\n",
      "3                     Brazil  ...    NaN          NaN   \n",
      "5                     Brazil  ...    NaN          NaN   \n",
      "65                   Germany  ...  right        179.0   \n",
      "79                    Brazil  ...    NaN          NaN   \n",
      "153                   Brazil  ...  right        183.0   \n",
      "...                      ...  ...    ...          ...   \n",
      "32226                 Brazil  ...   left        190.0   \n",
      "32227               Portugal  ...   left        185.0   \n",
      "32229               Portugal  ...  right        180.0   \n",
      "32330                 Brazil  ...  right        174.0   \n",
      "32423                 Brazil  ...  right        178.0   \n",
      "\n",
      "      contract_expiration_date          agent_name  \\\n",
      "3                          NaN                 NaN   \n",
      "5                          NaN    Football Concept   \n",
      "65                         NaN      NESS & Network   \n",
      "79                         NaN                 NaN   \n",
      "153                        NaN     Rafaela Pimenta   \n",
      "...                        ...                 ...   \n",
      "32226      2027-06-30 00:00:00  Fiba Soccer S.r.l.   \n",
      "32227      2025-06-30 00:00:00                 NaN   \n",
      "32229      2026-06-30 00:00:00                 NaN   \n",
      "32330      2029-06-30 00:00:00             Phsport   \n",
      "32423      2027-06-30 00:00:00      ADRIANO SPORTS   \n",
      "\n",
      "                                               image_url  \\\n",
      "3      https://img.a.transfermarkt.technology/portrai...   \n",
      "5      https://img.a.transfermarkt.technology/portrai...   \n",
      "65     https://img.a.transfermarkt.technology/portrai...   \n",
      "79     https://img.a.transfermarkt.technology/portrai...   \n",
      "153    https://img.a.transfermarkt.technology/portrai...   \n",
      "...                                                  ...   \n",
      "32226  https://img.a.transfermarkt.technology/portrai...   \n",
      "32227  https://img.a.transfermarkt.technology/portrai...   \n",
      "32229  https://img.a.transfermarkt.technology/portrai...   \n",
      "32330  https://img.a.transfermarkt.technology/portrai...   \n",
      "32423  https://img.a.transfermarkt.technology/portrai...   \n",
      "\n",
      "                                                     url  \\\n",
      "3      https://www.transfermarkt.co.uk/lucio/profil/s...   \n",
      "5      https://www.transfermarkt.co.uk/dede/profil/sp...   \n",
      "65     https://www.transfermarkt.co.uk/cacau/profil/s...   \n",
      "79     https://www.transfermarkt.co.uk/vivian/profil/...   \n",
      "153    https://www.transfermarkt.co.uk/cris/profil/sp...   \n",
      "...                                                  ...   \n",
      "32226  https://www.transfermarkt.co.uk/mateus-lusuard...   \n",
      "32227  https://www.transfermarkt.co.uk/peixinho/profi...   \n",
      "32229  https://www.transfermarkt.co.uk/samu/profil/sp...   \n",
      "32330  https://www.transfermarkt.co.uk/pedro-lima/pro...   \n",
      "32423  https://www.transfermarkt.co.uk/joao-neto/prof...   \n",
      "\n",
      "      current_club_domestic_competition_id  \\\n",
      "3                                      IT1   \n",
      "5                                      TR1   \n",
      "65                                      L1   \n",
      "79                                     FR1   \n",
      "153                                    TR1   \n",
      "...                                    ...   \n",
      "32226                                  IT1   \n",
      "32227                                  PO1   \n",
      "32229                                  PO1   \n",
      "32330                                  GB1   \n",
      "32423                                 UKR1   \n",
      "\n",
      "                               current_club_name market_value_in_eur  \\\n",
      "3                         Juventus Football Club            200000.0   \n",
      "5                                  Eskisehirspor            400000.0   \n",
      "65     Verein für Bewegungsspiele Stuttgart 1893            350000.0   \n",
      "79                                   EA Guingamp            100000.0   \n",
      "153                      Galatasaray Spor Kulübü            250000.0   \n",
      "...                                          ...                 ...   \n",
      "32226                           Frosinone Calcio            300000.0   \n",
      "32227                  Gil Vicente Futebol Clube                 NaN   \n",
      "32229                    Casa Pia Atlético Clube            100000.0   \n",
      "32330      Wolverhampton Wanderers Football Club           5000000.0   \n",
      "32423                 ZAO FK Chornomorets Odessa            100000.0   \n",
      "\n",
      "      highest_market_value_in_eur  \n",
      "3                      24500000.0  \n",
      "5                       9500000.0  \n",
      "65                      8000000.0  \n",
      "79                      1500000.0  \n",
      "153                    15000000.0  \n",
      "...                           ...  \n",
      "32226                    300000.0  \n",
      "32227                         NaN  \n",
      "32229                    100000.0  \n",
      "32330                   5000000.0  \n",
      "32423                    100000.0  \n",
      "\n",
      "[2060 rows x 23 columns]\n"
     ]
    }
   ],
   "source": [
    "print(players[players['first_name'].isnull()]) # as we can see some players dont have a first name and only last name. we can see that their name is equal to their last_name"
   ]
  },
  {
   "cell_type": "markdown",
   "id": "8d230401-3f71-44de-8c85-d4766413c3cc",
   "metadata": {},
   "source": [
    "#### since we have a column \"name\" which contains first_name + last_name, we can drop column first_name and last_name"
   ]
  },
  {
   "cell_type": "code",
   "execution_count": 28,
   "id": "ee441df7-85ee-4cab-a85c-dc27a97628f9",
   "metadata": {},
   "outputs": [],
   "source": [
    "players = players.drop(columns=['first_name', 'last_name'])"
   ]
  },
  {
   "cell_type": "code",
   "execution_count": 29,
   "id": "e252275b-5db0-48ef-adaa-b27250f85552",
   "metadata": {},
   "outputs": [
    {
     "name": "stdout",
     "output_type": "stream",
     "text": [
      "player_id                                   0\n",
      "name                                        0\n",
      "last_season                                 0\n",
      "current_club_id                             0\n",
      "player_code                                 0\n",
      "country_of_birth                         2785\n",
      "city_of_birth                            2445\n",
      "country_of_citizenship                    379\n",
      "date_of_birth                              47\n",
      "sub_position                              183\n",
      "position                                    0\n",
      "foot                                     2562\n",
      "height_in_cm                             2299\n",
      "contract_expiration_date                12103\n",
      "agent_name                              15987\n",
      "image_url                                   0\n",
      "url                                         0\n",
      "current_club_domestic_competition_id        0\n",
      "current_club_name                           0\n",
      "market_value_in_eur                      1518\n",
      "highest_market_value_in_eur              1518\n",
      "dtype: int64\n"
     ]
    }
   ],
   "source": [
    "print(players.isna().sum())"
   ]
  },
  {
   "cell_type": "markdown",
   "id": "c6eb320a-0355-4b3a-8398-167377e7b7b4",
   "metadata": {},
   "source": [
    "### here we can replace country_of_birth, city_of_birth, country_of_citizenship, date_of_birth,sub_position, contract_expiration_date, agent_name as unknown"
   ]
  },
  {
   "cell_type": "code",
   "execution_count": 31,
   "id": "dd720db0-72d6-47b5-88dc-80059f45a03e",
   "metadata": {},
   "outputs": [],
   "source": [
    "columns_to_update = [\n",
    "    'country_of_birth', \n",
    "    'city_of_birth', \n",
    "    'country_of_citizenship', \n",
    "    'date_of_birth', \n",
    "    'contract_expiration_date', \n",
    "    'agent_name',\n",
    "    'sub_position',\n",
    "    'foot'\n",
    "]\n",
    "\n",
    "players[columns_to_update] = players[columns_to_update].fillna('unknown')"
   ]
  },
  {
   "cell_type": "markdown",
   "id": "1fea3825-a616-47b0-b52a-24ac78b3a062",
   "metadata": {},
   "source": [
    "#### Filling null values of height_in_cm, market_value_in_eur and highest_market_value_in_eur with their corresponding median values "
   ]
  },
  {
   "cell_type": "code",
   "execution_count": 33,
   "id": "35845613-8985-437c-9bca-c77743d10c3f",
   "metadata": {},
   "outputs": [],
   "source": [
    "median_value = players['market_value_in_eur'].median()\n",
    "players['market_value_in_eur'] = players['market_value_in_eur'].fillna(median_value)"
   ]
  },
  {
   "cell_type": "code",
   "execution_count": 34,
   "id": "3e6ac4dc-100d-4664-a83f-06c4ad66af35",
   "metadata": {},
   "outputs": [],
   "source": [
    "median_value = players['highest_market_value_in_eur'].median()\n",
    "players['highest_market_value_in_eur'] = players['highest_market_value_in_eur'].fillna(median_value)"
   ]
  },
  {
   "cell_type": "code",
   "execution_count": 35,
   "id": "a0afba73-083a-4f7f-8186-23a26b58b39e",
   "metadata": {},
   "outputs": [],
   "source": [
    "median_value = players['height_in_cm'].median()\n",
    "players['height_in_cm'] = players['height_in_cm'].fillna(median_value)"
   ]
  },
  {
   "cell_type": "code",
   "execution_count": 36,
   "id": "4672e3fd-a2a5-4558-943d-c371c1d0c694",
   "metadata": {},
   "outputs": [
    {
     "name": "stdout",
     "output_type": "stream",
     "text": [
      "player_id                               0\n",
      "name                                    0\n",
      "last_season                             0\n",
      "current_club_id                         0\n",
      "player_code                             0\n",
      "country_of_birth                        0\n",
      "city_of_birth                           0\n",
      "country_of_citizenship                  0\n",
      "date_of_birth                           0\n",
      "sub_position                            0\n",
      "position                                0\n",
      "foot                                    0\n",
      "height_in_cm                            0\n",
      "contract_expiration_date                0\n",
      "agent_name                              0\n",
      "image_url                               0\n",
      "url                                     0\n",
      "current_club_domestic_competition_id    0\n",
      "current_club_name                       0\n",
      "market_value_in_eur                     0\n",
      "highest_market_value_in_eur             0\n",
      "dtype: int64\n"
     ]
    }
   ],
   "source": [
    "print(players.isna().sum())"
   ]
  },
  {
   "cell_type": "markdown",
   "id": "6b09d35b-8dbf-4f7b-a59a-92828a748299",
   "metadata": {},
   "source": [
    "### Now our Players dataframe doesnt have any Null values."
   ]
  },
  {
   "cell_type": "code",
   "execution_count": 38,
   "id": "bcbde896-0c77-4b55-b496-2373aff9e901",
   "metadata": {},
   "outputs": [
    {
     "name": "stdout",
     "output_type": "stream",
     "text": [
      "competition_id              0\n",
      "competition_code            0\n",
      "name                        0\n",
      "sub_type                    0\n",
      "type                        0\n",
      "country_id                  0\n",
      "country_name                8\n",
      "domestic_league_code        8\n",
      "confederation               0\n",
      "url                         0\n",
      "is_major_national_league    0\n",
      "dtype: int64\n"
     ]
    }
   ],
   "source": [
    "print(competitions.isna().sum())"
   ]
  },
  {
   "cell_type": "code",
   "execution_count": 39,
   "id": "3d214459-9327-4bd5-bdf0-b64f98508bef",
   "metadata": {},
   "outputs": [
    {
     "name": "stdout",
     "output_type": "stream",
     "text": [
      "   domestic_league_code country_name\n",
      "0                   IT1        Italy\n",
      "1                   NL1  Netherlands\n",
      "2                   GR1       Greece\n",
      "3                   PO1     Portugal\n",
      "4                   RU1       Russia\n",
      "5                   ES1        Spain\n",
      "6                   NaN          NaN\n",
      "7                   DK1      Denmark\n",
      "8                   NaN          NaN\n",
      "9                   ES1        Spain\n",
      "10                  FR1       France\n",
      "11                  IT1        Italy\n",
      "12                  NL1  Netherlands\n",
      "13                  RU1       Russia\n",
      "14                  PO1     Portugal\n",
      "15                  BE1      Belgium\n",
      "16                  GB1      England\n",
      "17                  NaN          NaN\n",
      "18                  NaN          NaN\n",
      "19                  GB1      England\n",
      "20                  DK1      Denmark\n",
      "21                  NaN          NaN\n",
      "22                  GB1      England\n",
      "23                  NL1  Netherlands\n",
      "24                 UKR1      Ukraine\n",
      "25                 UKR1      Ukraine\n",
      "26                  ES1        Spain\n",
      "27                  NaN          NaN\n",
      "28                  GR1       Greece\n",
      "29                  TR1       Turkey\n",
      "30                  PO1     Portugal\n",
      "31                  GB1      England\n",
      "32                  NaN          NaN\n",
      "33                   L1      Germany\n",
      "34                  RU1       Russia\n",
      "35                  SC1     Scotland\n",
      "36                  IT1        Italy\n",
      "37                  BE1      Belgium\n",
      "38                  NaN          NaN\n",
      "39                   L1      Germany\n",
      "40                  SC1     Scotland\n",
      "41                 UKR1      Ukraine\n",
      "42                   L1      Germany\n",
      "43                  FR1       France\n"
     ]
    }
   ],
   "source": [
    "print(competitions[['domestic_league_code','country_name']])"
   ]
  },
  {
   "cell_type": "markdown",
   "id": "8fcdb6ae-f421-4ec1-8c7a-84ce41f82456",
   "metadata": {},
   "source": [
    "### we can fill null values of domestic_league_code and country_name by unknown"
   ]
  },
  {
   "cell_type": "code",
   "execution_count": 41,
   "id": "b73f51ff-5ccb-4e0c-8f6c-5726b1351729",
   "metadata": {},
   "outputs": [],
   "source": [
    "columns_to_update = [\n",
    "    'domestic_league_code', \n",
    "    'country_name'\n",
    "]\n",
    "\n",
    "competitions[columns_to_update] = competitions[columns_to_update].fillna('unknown')"
   ]
  },
  {
   "cell_type": "code",
   "execution_count": 42,
   "id": "81c3f17c-0d4b-448f-95d6-a4bc23ce5f55",
   "metadata": {},
   "outputs": [
    {
     "name": "stdout",
     "output_type": "stream",
     "text": [
      "competition_id              0\n",
      "competition_code            0\n",
      "name                        0\n",
      "sub_type                    0\n",
      "type                        0\n",
      "country_id                  0\n",
      "country_name                0\n",
      "domestic_league_code        0\n",
      "confederation               0\n",
      "url                         0\n",
      "is_major_national_league    0\n",
      "dtype: int64\n"
     ]
    }
   ],
   "source": [
    "print(competitions.isna().sum())"
   ]
  },
  {
   "cell_type": "code",
   "execution_count": 43,
   "id": "350dc53a-aea1-4598-9eda-413d6a6e609a",
   "metadata": {},
   "outputs": [],
   "source": [
    "### now the competitions dataframe doesnt have any null values."
   ]
  },
  {
   "cell_type": "code",
   "execution_count": 44,
   "id": "d7d48740-ff80-4c3d-b215-7be96455c820",
   "metadata": {},
   "outputs": [
    {
     "name": "stdout",
     "output_type": "stream",
     "text": [
      "game_event_id            0\n",
      "date                     0\n",
      "game_id                  0\n",
      "minute                   0\n",
      "type                     0\n",
      "club_id                  0\n",
      "player_id                0\n",
      "description          86574\n",
      "player_in_id        525565\n",
      "player_assist_id    855423\n",
      "dtype: int64\n"
     ]
    }
   ],
   "source": [
    "print(game_events.isna().sum())"
   ]
  },
  {
   "cell_type": "code",
   "execution_count": 45,
   "id": "159d1619-f1d0-48fa-8a5c-a6f5491ad1a6",
   "metadata": {},
   "outputs": [
    {
     "name": "stdout",
     "output_type": "stream",
     "text": [
      "                                         description  player_in_id  \\\n",
      "0               1. Yellow card  , Mass confrontation           NaN   \n",
      "1               1. Yellow card  , Mass confrontation           NaN   \n",
      "2  , Header, 1. Tournament Goal Assist: , Corner,...           NaN   \n",
      "3  , Right-footed shot, 2. Tournament Goal Assist...           NaN   \n",
      "4                                     , Not reported       49499.0   \n",
      "\n",
      "   player_assist_id  \n",
      "0               NaN  \n",
      "1               NaN  \n",
      "2           56416.0  \n",
      "3          146258.0  \n",
      "4               NaN  \n"
     ]
    }
   ],
   "source": [
    "print(game_events[['description', 'player_in_id', 'player_assist_id']].head(5))"
   ]
  },
  {
   "cell_type": "markdown",
   "id": "d0be3ece-0318-4e40-8042-1b35f682ecae",
   "metadata": {},
   "source": [
    "### description , player_in_id , player_assist_id values can not be set to some median , mean or unkown, so dropping them from dataframe."
   ]
  },
  {
   "cell_type": "code",
   "execution_count": 47,
   "id": "b198d5fe-0c95-4023-ae29-f14bc3fc288b",
   "metadata": {},
   "outputs": [],
   "source": [
    "game_events = game_events.drop(columns=['description','player_in_id','player_assist_id'])"
   ]
  },
  {
   "cell_type": "code",
   "execution_count": 48,
   "id": "533dbe48-db72-481c-b12f-afbf6491bff2",
   "metadata": {},
   "outputs": [
    {
     "name": "stdout",
     "output_type": "stream",
     "text": [
      "game_event_id    0\n",
      "date             0\n",
      "game_id          0\n",
      "minute           0\n",
      "type             0\n",
      "club_id          0\n",
      "player_id        0\n",
      "dtype: int64\n"
     ]
    }
   ],
   "source": [
    "print(game_events.isna().sum())"
   ]
  },
  {
   "cell_type": "code",
   "execution_count": 49,
   "id": "364e6be1-dd1c-4187-94dc-0cd4b87333fe",
   "metadata": {},
   "outputs": [
    {
     "name": "stdout",
     "output_type": "stream",
     "text": [
      "game_id                       0\n",
      "competition_id                0\n",
      "season                        0\n",
      "round                         0\n",
      "date                          0\n",
      "home_club_id                  9\n",
      "away_club_id                  9\n",
      "home_club_goals              12\n",
      "away_club_goals              12\n",
      "home_club_position        22169\n",
      "away_club_position        22169\n",
      "home_club_manager_name      827\n",
      "away_club_manager_name      827\n",
      "stadium                     250\n",
      "attendance                 9883\n",
      "referee                     652\n",
      "url                           0\n",
      "home_club_formation        6965\n",
      "away_club_formation        6794\n",
      "home_club_name            12748\n",
      "away_club_name            11363\n",
      "aggregate                    12\n",
      "competition_type              0\n",
      "dtype: int64\n"
     ]
    }
   ],
   "source": [
    "print(games.isna().sum())"
   ]
  },
  {
   "cell_type": "code",
   "execution_count": 50,
   "id": "519b96be-62b9-4649-8489-a4e1f493c6a2",
   "metadata": {},
   "outputs": [
    {
     "data": {
      "text/html": [
       "<div>\n",
       "<style scoped>\n",
       "    .dataframe tbody tr th:only-of-type {\n",
       "        vertical-align: middle;\n",
       "    }\n",
       "\n",
       "    .dataframe tbody tr th {\n",
       "        vertical-align: top;\n",
       "    }\n",
       "\n",
       "    .dataframe thead th {\n",
       "        text-align: right;\n",
       "    }\n",
       "</style>\n",
       "<table border=\"1\" class=\"dataframe\">\n",
       "  <thead>\n",
       "    <tr style=\"text-align: right;\">\n",
       "      <th></th>\n",
       "      <th>game_id</th>\n",
       "      <th>competition_id</th>\n",
       "      <th>season</th>\n",
       "      <th>round</th>\n",
       "      <th>date</th>\n",
       "      <th>home_club_id</th>\n",
       "      <th>away_club_id</th>\n",
       "      <th>home_club_goals</th>\n",
       "      <th>away_club_goals</th>\n",
       "      <th>home_club_position</th>\n",
       "      <th>...</th>\n",
       "      <th>stadium</th>\n",
       "      <th>attendance</th>\n",
       "      <th>referee</th>\n",
       "      <th>url</th>\n",
       "      <th>home_club_formation</th>\n",
       "      <th>away_club_formation</th>\n",
       "      <th>home_club_name</th>\n",
       "      <th>away_club_name</th>\n",
       "      <th>aggregate</th>\n",
       "      <th>competition_type</th>\n",
       "    </tr>\n",
       "  </thead>\n",
       "  <tbody>\n",
       "    <tr>\n",
       "      <th>0</th>\n",
       "      <td>2321027</td>\n",
       "      <td>L1</td>\n",
       "      <td>2013</td>\n",
       "      <td>1. Matchday</td>\n",
       "      <td>2013-08-11</td>\n",
       "      <td>33.0</td>\n",
       "      <td>41.0</td>\n",
       "      <td>3.0</td>\n",
       "      <td>3.0</td>\n",
       "      <td>8.0</td>\n",
       "      <td>...</td>\n",
       "      <td>Veltins-Arena</td>\n",
       "      <td>61973.0</td>\n",
       "      <td>Manuel Gräfe</td>\n",
       "      <td>https://www.transfermarkt.co.uk/fc-schalke-04_...</td>\n",
       "      <td>4-2-3-1</td>\n",
       "      <td>4-2-3-1</td>\n",
       "      <td>FC Schalke 04</td>\n",
       "      <td>Hamburger SV</td>\n",
       "      <td>3:3</td>\n",
       "      <td>domestic_league</td>\n",
       "    </tr>\n",
       "    <tr>\n",
       "      <th>1</th>\n",
       "      <td>2321033</td>\n",
       "      <td>L1</td>\n",
       "      <td>2013</td>\n",
       "      <td>1. Matchday</td>\n",
       "      <td>2013-08-10</td>\n",
       "      <td>23.0</td>\n",
       "      <td>86.0</td>\n",
       "      <td>0.0</td>\n",
       "      <td>1.0</td>\n",
       "      <td>13.0</td>\n",
       "      <td>...</td>\n",
       "      <td>EINTRACHT-Stadion</td>\n",
       "      <td>23000.0</td>\n",
       "      <td>Deniz Aytekin</td>\n",
       "      <td>https://www.transfermarkt.co.uk/eintracht-brau...</td>\n",
       "      <td>4-3-2-1</td>\n",
       "      <td>4-3-1-2</td>\n",
       "      <td>Eintracht Braunschweig</td>\n",
       "      <td>Sportverein Werder Bremen von 1899</td>\n",
       "      <td>0:1</td>\n",
       "      <td>domestic_league</td>\n",
       "    </tr>\n",
       "    <tr>\n",
       "      <th>2</th>\n",
       "      <td>2321044</td>\n",
       "      <td>L1</td>\n",
       "      <td>2013</td>\n",
       "      <td>2. Matchday</td>\n",
       "      <td>2013-08-18</td>\n",
       "      <td>16.0</td>\n",
       "      <td>23.0</td>\n",
       "      <td>2.0</td>\n",
       "      <td>1.0</td>\n",
       "      <td>1.0</td>\n",
       "      <td>...</td>\n",
       "      <td>SIGNAL IDUNA PARK</td>\n",
       "      <td>80200.0</td>\n",
       "      <td>Peter Sippel</td>\n",
       "      <td>https://www.transfermarkt.co.uk/borussia-dortm...</td>\n",
       "      <td>4-2-3-1</td>\n",
       "      <td>4-3-2-1</td>\n",
       "      <td>Borussia Dortmund</td>\n",
       "      <td>Eintracht Braunschweig</td>\n",
       "      <td>2:1</td>\n",
       "      <td>domestic_league</td>\n",
       "    </tr>\n",
       "    <tr>\n",
       "      <th>3</th>\n",
       "      <td>2321060</td>\n",
       "      <td>L1</td>\n",
       "      <td>2013</td>\n",
       "      <td>3. Matchday</td>\n",
       "      <td>2013-08-25</td>\n",
       "      <td>23.0</td>\n",
       "      <td>24.0</td>\n",
       "      <td>0.0</td>\n",
       "      <td>2.0</td>\n",
       "      <td>18.0</td>\n",
       "      <td>...</td>\n",
       "      <td>EINTRACHT-Stadion</td>\n",
       "      <td>23325.0</td>\n",
       "      <td>Wolfgang Stark</td>\n",
       "      <td>https://www.transfermarkt.co.uk/eintracht-brau...</td>\n",
       "      <td>4-3-2-1</td>\n",
       "      <td>4-2-3-1</td>\n",
       "      <td>Eintracht Braunschweig</td>\n",
       "      <td>Eintracht Frankfurt Fußball AG</td>\n",
       "      <td>0:2</td>\n",
       "      <td>domestic_league</td>\n",
       "    </tr>\n",
       "    <tr>\n",
       "      <th>4</th>\n",
       "      <td>2321072</td>\n",
       "      <td>L1</td>\n",
       "      <td>2013</td>\n",
       "      <td>5. Matchday</td>\n",
       "      <td>2013-09-14</td>\n",
       "      <td>16.0</td>\n",
       "      <td>41.0</td>\n",
       "      <td>6.0</td>\n",
       "      <td>2.0</td>\n",
       "      <td>1.0</td>\n",
       "      <td>...</td>\n",
       "      <td>SIGNAL IDUNA PARK</td>\n",
       "      <td>80645.0</td>\n",
       "      <td>Tobias Welz</td>\n",
       "      <td>https://www.transfermarkt.co.uk/borussia-dortm...</td>\n",
       "      <td>4-2-3-1</td>\n",
       "      <td>3-5-2</td>\n",
       "      <td>Borussia Dortmund</td>\n",
       "      <td>Hamburger SV</td>\n",
       "      <td>6:2</td>\n",
       "      <td>domestic_league</td>\n",
       "    </tr>\n",
       "  </tbody>\n",
       "</table>\n",
       "<p>5 rows × 23 columns</p>\n",
       "</div>"
      ],
      "text/plain": [
       "   game_id competition_id  season        round        date  home_club_id  \\\n",
       "0  2321027             L1    2013  1. Matchday  2013-08-11          33.0   \n",
       "1  2321033             L1    2013  1. Matchday  2013-08-10          23.0   \n",
       "2  2321044             L1    2013  2. Matchday  2013-08-18          16.0   \n",
       "3  2321060             L1    2013  3. Matchday  2013-08-25          23.0   \n",
       "4  2321072             L1    2013  5. Matchday  2013-09-14          16.0   \n",
       "\n",
       "   away_club_id  home_club_goals  away_club_goals  home_club_position  ...  \\\n",
       "0          41.0              3.0              3.0                 8.0  ...   \n",
       "1          86.0              0.0              1.0                13.0  ...   \n",
       "2          23.0              2.0              1.0                 1.0  ...   \n",
       "3          24.0              0.0              2.0                18.0  ...   \n",
       "4          41.0              6.0              2.0                 1.0  ...   \n",
       "\n",
       "             stadium attendance         referee  \\\n",
       "0      Veltins-Arena    61973.0    Manuel Gräfe   \n",
       "1  EINTRACHT-Stadion    23000.0   Deniz Aytekin   \n",
       "2  SIGNAL IDUNA PARK    80200.0    Peter Sippel   \n",
       "3  EINTRACHT-Stadion    23325.0  Wolfgang Stark   \n",
       "4  SIGNAL IDUNA PARK    80645.0     Tobias Welz   \n",
       "\n",
       "                                                 url  home_club_formation  \\\n",
       "0  https://www.transfermarkt.co.uk/fc-schalke-04_...              4-2-3-1   \n",
       "1  https://www.transfermarkt.co.uk/eintracht-brau...              4-3-2-1   \n",
       "2  https://www.transfermarkt.co.uk/borussia-dortm...              4-2-3-1   \n",
       "3  https://www.transfermarkt.co.uk/eintracht-brau...              4-3-2-1   \n",
       "4  https://www.transfermarkt.co.uk/borussia-dortm...              4-2-3-1   \n",
       "\n",
       "  away_club_formation          home_club_name  \\\n",
       "0             4-2-3-1           FC Schalke 04   \n",
       "1             4-3-1-2  Eintracht Braunschweig   \n",
       "2             4-3-2-1       Borussia Dortmund   \n",
       "3             4-2-3-1  Eintracht Braunschweig   \n",
       "4               3-5-2       Borussia Dortmund   \n",
       "\n",
       "                       away_club_name aggregate competition_type  \n",
       "0                        Hamburger SV       3:3  domestic_league  \n",
       "1  Sportverein Werder Bremen von 1899       0:1  domestic_league  \n",
       "2              Eintracht Braunschweig       2:1  domestic_league  \n",
       "3      Eintracht Frankfurt Fußball AG       0:2  domestic_league  \n",
       "4                        Hamburger SV       6:2  domestic_league  \n",
       "\n",
       "[5 rows x 23 columns]"
      ]
     },
     "execution_count": 50,
     "metadata": {},
     "output_type": "execute_result"
    }
   ],
   "source": [
    "games.head(5)"
   ]
  },
  {
   "cell_type": "markdown",
   "id": "60c2694c-ec25-4f45-931c-f5b9f7e54560",
   "metadata": {},
   "source": [
    "### as we can see there are only 9 rows with null ids. so we can drop them from the dataset."
   ]
  },
  {
   "cell_type": "code",
   "execution_count": 52,
   "id": "88ba6ade-1052-4925-8718-d0bfbc4fc383",
   "metadata": {},
   "outputs": [],
   "source": [
    "games = games.dropna(subset=['home_club_id'])"
   ]
  },
  {
   "cell_type": "code",
   "execution_count": 53,
   "id": "1a88b4cd-e9be-4718-8d50-e7ace09b6c9d",
   "metadata": {},
   "outputs": [
    {
     "name": "stdout",
     "output_type": "stream",
     "text": [
      "game_id                       0\n",
      "competition_id                0\n",
      "season                        0\n",
      "round                         0\n",
      "date                          0\n",
      "home_club_id                  0\n",
      "away_club_id                  0\n",
      "home_club_goals               3\n",
      "away_club_goals               3\n",
      "home_club_position        22160\n",
      "away_club_position        22160\n",
      "home_club_manager_name      818\n",
      "away_club_manager_name      818\n",
      "stadium                     250\n",
      "attendance                 9874\n",
      "referee                     643\n",
      "url                           0\n",
      "home_club_formation        6956\n",
      "away_club_formation        6785\n",
      "home_club_name            12739\n",
      "away_club_name            11354\n",
      "aggregate                     3\n",
      "competition_type              0\n",
      "dtype: int64\n"
     ]
    }
   ],
   "source": [
    "print(games.isna().sum())"
   ]
  },
  {
   "cell_type": "markdown",
   "id": "6ad19a9e-af6a-4a14-b721-5111c3a86ca3",
   "metadata": {},
   "source": [
    "### by dropping them we can see only 3 rows remain where home club goals and away club golas are null. so we can drop them as well"
   ]
  },
  {
   "cell_type": "code",
   "execution_count": 55,
   "id": "3251c9d9-96b6-475c-bea0-8a530bf5f5e0",
   "metadata": {},
   "outputs": [],
   "source": [
    "games = games.dropna(subset=['home_club_goals'])"
   ]
  },
  {
   "cell_type": "code",
   "execution_count": 56,
   "id": "720609fe-1640-463c-a20c-3ccf56a858ad",
   "metadata": {},
   "outputs": [
    {
     "name": "stdout",
     "output_type": "stream",
     "text": [
      "game_id                       0\n",
      "competition_id                0\n",
      "season                        0\n",
      "round                         0\n",
      "date                          0\n",
      "home_club_id                  0\n",
      "away_club_id                  0\n",
      "home_club_goals               0\n",
      "away_club_goals               0\n",
      "home_club_position        22157\n",
      "away_club_position        22157\n",
      "home_club_manager_name      815\n",
      "away_club_manager_name      815\n",
      "stadium                     250\n",
      "attendance                 9871\n",
      "referee                     640\n",
      "url                           0\n",
      "home_club_formation        6953\n",
      "away_club_formation        6782\n",
      "home_club_name            12736\n",
      "away_club_name            11351\n",
      "aggregate                     0\n",
      "competition_type              0\n",
      "dtype: int64\n"
     ]
    }
   ],
   "source": [
    "print(games.isna().sum())"
   ]
  },
  {
   "cell_type": "code",
   "execution_count": 57,
   "id": "3bd9407b-77a9-4233-aa9b-8f4debead47a",
   "metadata": {},
   "outputs": [
    {
     "name": "stdout",
     "output_type": "stream",
     "text": [
      "game_id                     int64\n",
      "competition_id             object\n",
      "season                      int64\n",
      "round                      object\n",
      "date                       object\n",
      "home_club_id              float64\n",
      "away_club_id              float64\n",
      "home_club_goals           float64\n",
      "away_club_goals           float64\n",
      "home_club_position        float64\n",
      "away_club_position        float64\n",
      "home_club_manager_name     object\n",
      "away_club_manager_name     object\n",
      "stadium                    object\n",
      "attendance                float64\n",
      "referee                    object\n",
      "url                        object\n",
      "home_club_formation        object\n",
      "away_club_formation        object\n",
      "home_club_name             object\n",
      "away_club_name             object\n",
      "aggregate                  object\n",
      "competition_type           object\n",
      "dtype: object\n"
     ]
    }
   ],
   "source": [
    "print(games.dtypes)"
   ]
  },
  {
   "cell_type": "markdown",
   "id": "8f23ac85-986d-4055-a8a4-2d74c296bf17",
   "metadata": {},
   "source": [
    "### since home_club_position, away_club_position and attendance are in float; we can fill the null values of them by their corresponding median"
   ]
  },
  {
   "cell_type": "code",
   "execution_count": 59,
   "id": "c4676023-5dea-45c9-b30b-4c80439484e1",
   "metadata": {},
   "outputs": [],
   "source": [
    "median_value = games['home_club_position'].median()\n",
    "games['home_club_position'] = games['home_club_position'].fillna(median_value)"
   ]
  },
  {
   "cell_type": "code",
   "execution_count": 60,
   "id": "ee9da7c4-9c29-474a-8ba7-8c9ecd67d05f",
   "metadata": {},
   "outputs": [],
   "source": [
    "median_value = games['away_club_position'].median()\n",
    "games['away_club_position'] = games['away_club_position'].fillna(median_value)"
   ]
  },
  {
   "cell_type": "code",
   "execution_count": 61,
   "id": "ca1e83db-ffc3-4fc2-b760-71eaaee4d7dd",
   "metadata": {},
   "outputs": [],
   "source": [
    "median_value = games['attendance'].median()\n",
    "games['attendance'] = games['attendance'].fillna(median_value)"
   ]
  },
  {
   "cell_type": "code",
   "execution_count": 62,
   "id": "d5d5f5ff-54ce-47bb-bec0-9ec72baee304",
   "metadata": {},
   "outputs": [
    {
     "name": "stdout",
     "output_type": "stream",
     "text": [
      "game_id                       0\n",
      "competition_id                0\n",
      "season                        0\n",
      "round                         0\n",
      "date                          0\n",
      "home_club_id                  0\n",
      "away_club_id                  0\n",
      "home_club_goals               0\n",
      "away_club_goals               0\n",
      "home_club_position            0\n",
      "away_club_position            0\n",
      "home_club_manager_name      815\n",
      "away_club_manager_name      815\n",
      "stadium                     250\n",
      "attendance                    0\n",
      "referee                     640\n",
      "url                           0\n",
      "home_club_formation        6953\n",
      "away_club_formation        6782\n",
      "home_club_name            12736\n",
      "away_club_name            11351\n",
      "aggregate                     0\n",
      "competition_type              0\n",
      "dtype: int64\n"
     ]
    }
   ],
   "source": [
    "print(games.isna().sum())"
   ]
  },
  {
   "cell_type": "markdown",
   "id": "bf8bf00a-1c11-4dcb-8f8d-61d58eac32a4",
   "metadata": {},
   "source": [
    "### we can fill home_club_manager_name, away_club_manager_name , stadium, referee, home_club_formation, away_club_formation, home_club_name, away_club_name as unknown since we cant just add median or mean to it."
   ]
  },
  {
   "cell_type": "code",
   "execution_count": 64,
   "id": "e5977417-04f9-4df7-b7d4-7049abee55b1",
   "metadata": {},
   "outputs": [],
   "source": [
    "columns_to_update = [\n",
    "    'home_club_manager_name', \n",
    "    'away_club_manager_name', \n",
    "    'stadium', \n",
    "    'referee', \n",
    "    'home_club_formation', \n",
    "    'away_club_formation',\n",
    "    'home_club_name',\n",
    "    'away_club_name'\n",
    "]\n",
    "\n",
    "games[columns_to_update] = games[columns_to_update].fillna('unknown')"
   ]
  },
  {
   "cell_type": "code",
   "execution_count": 65,
   "id": "4e1ab2b8-84a9-469a-bac3-418353f8ba70",
   "metadata": {},
   "outputs": [
    {
     "name": "stdout",
     "output_type": "stream",
     "text": [
      "game_id                   0\n",
      "competition_id            0\n",
      "season                    0\n",
      "round                     0\n",
      "date                      0\n",
      "home_club_id              0\n",
      "away_club_id              0\n",
      "home_club_goals           0\n",
      "away_club_goals           0\n",
      "home_club_position        0\n",
      "away_club_position        0\n",
      "home_club_manager_name    0\n",
      "away_club_manager_name    0\n",
      "stadium                   0\n",
      "attendance                0\n",
      "referee                   0\n",
      "url                       0\n",
      "home_club_formation       0\n",
      "away_club_formation       0\n",
      "home_club_name            0\n",
      "away_club_name            0\n",
      "aggregate                 0\n",
      "competition_type          0\n",
      "dtype: int64\n"
     ]
    }
   ],
   "source": [
    "print(games.isna().sum())"
   ]
  },
  {
   "cell_type": "markdown",
   "id": "8cc99259-4837-4782-addf-20e472901de0",
   "metadata": {},
   "source": [
    "### we dont have any null values in games dataframe as well."
   ]
  },
  {
   "cell_type": "markdown",
   "id": "2d8ad458-743c-4dc1-9ba1-448aa8fdefd7",
   "metadata": {},
   "source": [
    "# Merging dataframes:  appearances, players and games"
   ]
  },
  {
   "cell_type": "code",
   "execution_count": 69,
   "id": "66c0e999-c8b6-4125-adcf-e9c29ef2e1ee",
   "metadata": {},
   "outputs": [
    {
     "name": "stdout",
     "output_type": "stream",
     "text": [
      "Index(['appearance_id', 'game_id', 'player_id', 'player_club_id',\n",
      "       'player_current_club_id', 'date', 'player_name', 'competition_id',\n",
      "       'yellow_cards', 'red_cards', 'goals', 'assists', 'minutes_played'],\n",
      "      dtype='object')\n"
     ]
    }
   ],
   "source": [
    "print(appearances.columns)"
   ]
  },
  {
   "cell_type": "code",
   "execution_count": 71,
   "id": "72cbdd7b-399e-4cba-a121-41239cf16236",
   "metadata": {},
   "outputs": [
    {
     "name": "stdout",
     "output_type": "stream",
     "text": [
      "Index(['player_id', 'name', 'last_season', 'current_club_id', 'player_code',\n",
      "       'country_of_birth', 'city_of_birth', 'country_of_citizenship',\n",
      "       'date_of_birth', 'sub_position', 'position', 'foot', 'height_in_cm',\n",
      "       'contract_expiration_date', 'agent_name', 'image_url', 'url',\n",
      "       'current_club_domestic_competition_id', 'current_club_name',\n",
      "       'market_value_in_eur', 'highest_market_value_in_eur'],\n",
      "      dtype='object')\n"
     ]
    }
   ],
   "source": [
    "print(players.columns)"
   ]
  },
  {
   "cell_type": "code",
   "execution_count": 73,
   "id": "34e458f9-913c-462d-8422-cd641101c60d",
   "metadata": {},
   "outputs": [
    {
     "name": "stdout",
     "output_type": "stream",
     "text": [
      "Index(['game_id', 'competition_id', 'season', 'round', 'date', 'home_club_id',\n",
      "       'away_club_id', 'home_club_goals', 'away_club_goals',\n",
      "       'home_club_position', 'away_club_position', 'home_club_manager_name',\n",
      "       'away_club_manager_name', 'stadium', 'attendance', 'referee', 'url',\n",
      "       'home_club_formation', 'away_club_formation', 'home_club_name',\n",
      "       'away_club_name', 'aggregate', 'competition_type'],\n",
      "      dtype='object')\n"
     ]
    }
   ],
   "source": [
    "print(games.columns)"
   ]
  },
  {
   "cell_type": "code",
   "execution_count": 83,
   "id": "87ac2cc6-1ab4-4a8b-8b7f-6c5fb5610cb8",
   "metadata": {},
   "outputs": [],
   "source": [
    "player_performance = pd.merge(appearances,players, on='player_id' )"
   ]
  },
  {
   "cell_type": "code",
   "execution_count": 85,
   "id": "85ab7ae9-d336-4e91-b22f-024409a3f33b",
   "metadata": {},
   "outputs": [],
   "source": [
    "player_performance = pd.merge(player_performance , games, on = 'game_id')"
   ]
  },
  {
   "cell_type": "code",
   "execution_count": 87,
   "id": "ec15cdc4-31c9-4a5a-8a93-9a19f441d7a5",
   "metadata": {},
   "outputs": [
    {
     "name": "stdout",
     "output_type": "stream",
     "text": [
      "appearance_id                           0\n",
      "game_id                                 0\n",
      "player_id                               0\n",
      "player_club_id                          0\n",
      "player_current_club_id                  0\n",
      "date_x                                  0\n",
      "player_name                             0\n",
      "competition_id_x                        0\n",
      "yellow_cards                            0\n",
      "red_cards                               0\n",
      "goals                                   0\n",
      "assists                                 0\n",
      "minutes_played                          0\n",
      "name                                    0\n",
      "last_season                             0\n",
      "current_club_id                         0\n",
      "player_code                             0\n",
      "country_of_birth                        0\n",
      "city_of_birth                           0\n",
      "country_of_citizenship                  0\n",
      "date_of_birth                           0\n",
      "sub_position                            0\n",
      "position                                0\n",
      "foot                                    0\n",
      "height_in_cm                            0\n",
      "contract_expiration_date                0\n",
      "agent_name                              0\n",
      "image_url                               0\n",
      "url_x                                   0\n",
      "current_club_domestic_competition_id    0\n",
      "current_club_name                       0\n",
      "market_value_in_eur                     0\n",
      "highest_market_value_in_eur             0\n",
      "competition_id_y                        0\n",
      "season                                  0\n",
      "round                                   0\n",
      "date_y                                  0\n",
      "home_club_id                            0\n",
      "away_club_id                            0\n",
      "home_club_goals                         0\n",
      "away_club_goals                         0\n",
      "home_club_position                      0\n",
      "away_club_position                      0\n",
      "home_club_manager_name                  0\n",
      "away_club_manager_name                  0\n",
      "stadium                                 0\n",
      "attendance                              0\n",
      "referee                                 0\n",
      "url_y                                   0\n",
      "home_club_formation                     0\n",
      "away_club_formation                     0\n",
      "home_club_name                          0\n",
      "away_club_name                          0\n",
      "aggregate                               0\n",
      "competition_type                        0\n",
      "dtype: int64\n"
     ]
    }
   ],
   "source": [
    "print(player_performance.isna().sum())"
   ]
  },
  {
   "cell_type": "markdown",
   "id": "79bb6ef1-fb95-4b56-bfaa-836ee3951dc8",
   "metadata": {},
   "source": [
    "### Now we have a clean data frame which we can use to determine player performance."
   ]
  },
  {
   "cell_type": "markdown",
   "id": "4c5ae3da-4c6b-42b3-b0f7-3bf8092fdca4",
   "metadata": {},
   "source": [
    "#### Cleaning club_games dataframe"
   ]
  },
  {
   "cell_type": "code",
   "execution_count": 91,
   "id": "00bec125-0d4d-4764-9de8-98f939a8385a",
   "metadata": {},
   "outputs": [
    {
     "name": "stdout",
     "output_type": "stream",
     "text": [
      "game_id                      0\n",
      "club_id                     18\n",
      "own_goals                   24\n",
      "own_position             44338\n",
      "own_manager_name          1654\n",
      "opponent_id                 18\n",
      "opponent_goals              24\n",
      "opponent_position        44338\n",
      "opponent_manager_name     1654\n",
      "hosting                      0\n",
      "is_win                       0\n",
      "dtype: int64\n"
     ]
    }
   ],
   "source": [
    "print(club_games.isna().sum())"
   ]
  },
  {
   "cell_type": "code",
   "execution_count": 111,
   "id": "f8bb1b08-0de6-43dd-918a-c95c2643c749",
   "metadata": {},
   "outputs": [
    {
     "name": "stdout",
     "output_type": "stream",
     "text": [
      "        game_id  club_id  own_goals  own_position      own_manager_name  \\\n",
      "4       2321027     33.0        3.0           8.0           Jens Keller   \n",
      "5       2321033     23.0        0.0          13.0  Torsten Lieberknecht   \n",
      "6       2321044     16.0        2.0           1.0          Jürgen Klopp   \n",
      "7       2321060     23.0        0.0          18.0  Torsten Lieberknecht   \n",
      "8       2321063     33.0        2.0          13.0           Jens Keller   \n",
      "...         ...      ...        ...           ...                   ...   \n",
      "144659  3069682    982.0        2.0          17.0              Costinha   \n",
      "144660  3069685   7378.0        1.0          13.0         António Folha   \n",
      "144661  3069690   3349.0        4.0          18.0        Filipe Martins   \n",
      "144662  3069693   7179.0        1.0          16.0                  Pepa   \n",
      "144663  3069702    982.0        0.0          17.0              Costinha   \n",
      "\n",
      "        opponent_id  opponent_goals  opponent_position opponent_manager_name  \\\n",
      "4              41.0             3.0                9.0         Thorsten Fink   \n",
      "5              86.0             1.0                7.0            Robin Dutt   \n",
      "6              23.0             1.0               15.0  Torsten Lieberknecht   \n",
      "7              24.0             2.0               11.0             Armin Veh   \n",
      "8              15.0             0.0                3.0           Sami Hyypiä   \n",
      "...             ...             ...                ...                   ...   \n",
      "144659       2420.0             2.0                6.0           Luís Castro   \n",
      "144660        294.0             5.0                1.0            Bruno Lage   \n",
      "144661       2423.0             4.0                8.0        João Henriques   \n",
      "144662        336.0             1.0                3.0         Marcel Keizer   \n",
      "144663       2457.0             3.0                9.0                 Silas   \n",
      "\n",
      "       hosting  is_win  \n",
      "4         Home       0  \n",
      "5         Home       0  \n",
      "6         Home       1  \n",
      "7         Home       0  \n",
      "8         Home       1  \n",
      "...        ...     ...  \n",
      "144659    Away       0  \n",
      "144660    Away       0  \n",
      "144661    Away       0  \n",
      "144662    Away       0  \n",
      "144663    Away       0  \n",
      "\n",
      "[100054 rows x 11 columns]\n"
     ]
    }
   ],
   "source": [
    "print(club_games[~club_games.isnull().any(axis=1)])"
   ]
  },
  {
   "cell_type": "code",
   "execution_count": 115,
   "id": "7b9d8e2f-44c0-4433-a2dd-65d569aa2b57",
   "metadata": {},
   "outputs": [
    {
     "name": "stdout",
     "output_type": "stream",
     "text": [
      "        game_id  club_id  own_goals  own_position     own_manager_name  \\\n",
      "0       2320450   1468.0        0.0           NaN    Holger Bachthaler   \n",
      "1       2320454    222.0        0.0           NaN          Volkan Uluc   \n",
      "2       2320460      1.0        3.0           NaN      Jürgen Luginger   \n",
      "3       2320472   2036.0        4.0           NaN        Frank Schmidt   \n",
      "20      2321976  10604.0        1.0           NaN       Branko Nisevic   \n",
      "...         ...      ...        ...           ...                  ...   \n",
      "144693  3912717     62.0        0.0           NaN  Jindrich Trpisovsky   \n",
      "144694  3912732    602.0        0.0           NaN    Vladimir Cheburin   \n",
      "144695  3912739    540.0        0.0           NaN       Vladimír Weiss   \n",
      "144696  4031421   2156.0        0.0           NaN      José Luis Oltra   \n",
      "144697  4188444   1132.0        4.0           NaN      Vincent Kompany   \n",
      "\n",
      "        opponent_id  opponent_goals  opponent_position opponent_manager_name  \\\n",
      "0              24.0             2.0                NaN             Armin Veh   \n",
      "1              79.0             2.0                NaN        Bruno Labbadia   \n",
      "2              86.0             1.0                NaN            Robin Dutt   \n",
      "3              72.0             5.0                NaN     Alexander Schmidt   \n",
      "20            448.0             4.0                NaN         Marko Nikolic   \n",
      "...             ...             ...                ...                   ...   \n",
      "144693       7769.0             2.0                NaN          Dan Petrescu   \n",
      "144694        540.0             0.0                NaN        Vladimír Weiss   \n",
      "144695      10301.0             2.0                NaN      Eghishe Melikyan   \n",
      "144696        379.0             4.0                NaN           David Moyes   \n",
      "144697      34888.0             0.0                NaN             Neil Wood   \n",
      "\n",
      "       hosting  is_win  \n",
      "0         Home       0  \n",
      "1         Home       0  \n",
      "2         Home       1  \n",
      "3         Home       0  \n",
      "20        Home       0  \n",
      "...        ...     ...  \n",
      "144693    Away       0  \n",
      "144694    Away       0  \n",
      "144695    Away       0  \n",
      "144696    Away       0  \n",
      "144697    Away       1  \n",
      "\n",
      "[44644 rows x 11 columns]\n"
     ]
    }
   ],
   "source": [
    "print(club_games[club_games.isnull().any(axis=1)])"
   ]
  },
  {
   "cell_type": "code",
   "execution_count": 117,
   "id": "86ae7519-880d-41da-9963-88994013af42",
   "metadata": {},
   "outputs": [],
   "source": [
    "median_value = club_games['own_position'].median()\n",
    "club_games['own_position'] = club_games['own_position'].fillna(median_value)"
   ]
  },
  {
   "cell_type": "code",
   "execution_count": 119,
   "id": "abaf4f7c-3d52-47bc-bba3-36b0fee96ed0",
   "metadata": {},
   "outputs": [],
   "source": [
    "median_value = club_games['opponent_position'].median()\n",
    "club_games['opponent_position'] = club_games['opponent_position'].fillna(median_value)"
   ]
  },
  {
   "cell_type": "code",
   "execution_count": 123,
   "id": "a2a60beb-7dcf-4dc1-bfaa-3b65097dafcd",
   "metadata": {},
   "outputs": [],
   "source": [
    "median_value = club_games['own_goals'].median()\n",
    "club_games['own_goals'] = club_games['own_goals'].fillna(median_value)"
   ]
  },
  {
   "cell_type": "code",
   "execution_count": 125,
   "id": "3bd52ef2-0012-4376-bc2e-57365b29eeae",
   "metadata": {},
   "outputs": [],
   "source": [
    "median_value = club_games['opponent_goals'].median()\n",
    "club_games['opponent_goals'] = club_games['opponent_goals'].fillna(median_value)"
   ]
  },
  {
   "cell_type": "code",
   "execution_count": 129,
   "id": "fe761709-897e-498a-8e4c-ef36f6e09289",
   "metadata": {},
   "outputs": [],
   "source": [
    "club_games = club_games.dropna(subset=['club_id'])"
   ]
  },
  {
   "cell_type": "code",
   "execution_count": 131,
   "id": "b4de0667-d802-47c7-a308-7b6fba56dd2f",
   "metadata": {},
   "outputs": [],
   "source": [
    "club_games = club_games.dropna(subset=['opponent_id'])"
   ]
  },
  {
   "cell_type": "code",
   "execution_count": 163,
   "id": "d428dc47-c53b-4665-a9f5-f8ee0aad91e9",
   "metadata": {},
   "outputs": [],
   "source": [
    "columns_to_update = [\n",
    "    'own_manager_name', \n",
    "    'opponent_manager_name'\n",
    "]\n",
    "club_games[columns_to_update] = club_games[columns_to_update].fillna('unknown')"
   ]
  },
  {
   "cell_type": "code",
   "execution_count": 137,
   "id": "2ffaceec-2bc2-4c3e-830d-1dc1da0f766f",
   "metadata": {},
   "outputs": [
    {
     "name": "stdout",
     "output_type": "stream",
     "text": [
      "game_id                  0\n",
      "club_id                  0\n",
      "own_goals                0\n",
      "own_position             0\n",
      "own_manager_name         0\n",
      "opponent_id              0\n",
      "opponent_goals           0\n",
      "opponent_position        0\n",
      "opponent_manager_name    0\n",
      "hosting                  0\n",
      "is_win                   0\n",
      "dtype: int64\n"
     ]
    }
   ],
   "source": [
    "print(club_games.isna().sum())"
   ]
  },
  {
   "cell_type": "markdown",
   "id": "fe3f8ecc-e742-4bc0-82fe-69c0bba8d392",
   "metadata": {},
   "source": [
    "#### Cleaning clubs dataframe"
   ]
  },
  {
   "cell_type": "code",
   "execution_count": 161,
   "id": "d33459c2-4457-4b5a-b6a2-c27a4ec2a126",
   "metadata": {},
   "outputs": [
    {
     "name": "stdout",
     "output_type": "stream",
     "text": [
      "     club_id                      club_code                             name  \\\n",
      "11     21957                   ao-platanias                     AO Platanias   \n",
      "25     60551                    sk-dnipro-1                      SC Dnipro-1   \n",
      "26      6996               goverla-uzhgorod        Goverla Uzhgorod (- 2016)   \n",
      "39      2477                   karpaty-lviv             Karpaty Lviv (-2021)   \n",
      "54       566                   beerschot-ac                     Beerschot AC   \n",
      "69      1411                      raec-mons               RAEC Mons (- 2015)   \n",
      "94     16239                desna-chernigiv                  Desna Chernigiv   \n",
      "99     28956                    ael-kalloni                      AEL Kalloni   \n",
      "122    16247             pfk-stal-kamyanske       PFK Stal Kamyanske (-2018)   \n",
      "123    20100               fc-vestsjaelland                 FC Vestsjaelland   \n",
      "129     3691                      tom-tomsk                        Tom Tomsk   \n",
      "133      498                    ksc-lokeren             KSC Lokeren (- 2020)   \n",
      "134      524                  gaziantepspor           Gaziantepspor (- 2020)   \n",
      "140      976               cf-uniao-madeira         CF União Madeira (-2021)   \n",
      "145    11126               mordovia-saransk         Mordovia Saransk (-2020)   \n",
      "147    12438         volga-nizhniy-novgorod  Volga Nizhniy Novgorod (- 2016)   \n",
      "161     3336                desportivo-aves         Desportivo Aves (- 2020)   \n",
      "166     6414               metalist-kharkiv        Metalist Kharkiv (- 2016)   \n",
      "167     6993                    fk-mariupol                      FK Mariupol   \n",
      "180      128                      ao-xanthi                        AO Xanthi   \n",
      "208    29228           royal-excel-mouscron     Royal Excel Mouscron (-2022)   \n",
      "209     3216              mersin-idmanyurdu             Mersin Talimyurdu SK   \n",
      "216    40426                       fk-tosno                 FC Tosno (-2018)   \n",
      "227     1506           kardemir-karabukspor             Kardemir Karabükspor   \n",
      "231    23611                olimpik-donetsk                  Olimpik Donetsk   \n",
      "261     2700              anzhi-makhachkala       Anzhi Makhachkala ( -2022)   \n",
      "276    16245                  fk-sevastopol           FK Sevastopol (- 2014)   \n",
      "285      339          dnipro-dnipropetrovsk    Dnipro Dnipropetrovsk (-2020)   \n",
      "306     2439                kuban-krasnodar          Kuban Krasnodar (-2018)   \n",
      "307     2703            spartak-vladikavkaz      Spartak Vladikavkaz (-2020)   \n",
      "315     4482                    volyn-lutsk                      Volyn Lutsk   \n",
      "333      204                      lierse-sk               Lierse SK (- 2018)   \n",
      "334     2227          sk-tavriya-simferopol  SK Tavriya Simferopol ( - 2022)   \n",
      "349     6894            kayseri-erciyesspor              Kayseri Erciyesspor   \n",
      "353      862                  chievo-verona                    Chievo Verona   \n",
      "355     9007                   arsenal-kiew                     Arsenal Kyiv   \n",
      "366    41201                     pfk-tambov               PFK Tambov (-2021)   \n",
      "371     6994  metalurg-zaporizhya-bis-2016-      Metalurg Zaporizhya (-2016)   \n",
      "389     2783               metalurg-donetsk        Metalurg Donetsk (- 2015)   \n",
      "\n",
      "    domestic_competition_id  squad_size  average_age  foreigners_number  \\\n",
      "11                      GR1           0          NaN                  0   \n",
      "25                     UKR1           0          0.0                  0   \n",
      "26                     UKR1           0          NaN                  0   \n",
      "39                     UKR1           0          NaN                  0   \n",
      "54                      BE1           0          NaN                  0   \n",
      "69                      BE1           0          NaN                  0   \n",
      "94                     UKR1           0          NaN                  0   \n",
      "99                      GR1           0          NaN                  0   \n",
      "122                    UKR1           0          NaN                  0   \n",
      "123                     DK1           0          NaN                  0   \n",
      "129                     RU1           0          NaN                  0   \n",
      "133                     BE1           0          NaN                  0   \n",
      "134                     TR1           0          NaN                  0   \n",
      "140                     PO1           0          NaN                  0   \n",
      "145                     RU1           0          NaN                  0   \n",
      "147                     RU1           0          NaN                  0   \n",
      "161                     PO1           0          NaN                  0   \n",
      "166                    UKR1           0          NaN                  0   \n",
      "167                    UKR1           0          NaN                  0   \n",
      "180                     GR1           0          NaN                  0   \n",
      "208                     BE1           0          NaN                  0   \n",
      "209                     TR1           0          NaN                  0   \n",
      "216                     RU1           0          NaN                  0   \n",
      "227                     TR1           0          NaN                  0   \n",
      "231                    UKR1           0          NaN                  0   \n",
      "261                     RU1           0          NaN                  0   \n",
      "276                    UKR1           0          NaN                  0   \n",
      "285                    UKR1           0          NaN                  0   \n",
      "306                     RU1           0          NaN                  0   \n",
      "307                     RU1           0          NaN                  0   \n",
      "315                    UKR1           0          NaN                  0   \n",
      "333                     BE1           0          NaN                  0   \n",
      "334                    UKR1           0          NaN                  0   \n",
      "349                     TR1           0          NaN                  0   \n",
      "353                     IT1           0          NaN                  0   \n",
      "355                    UKR1           0          NaN                  0   \n",
      "366                     RU1           0          NaN                  0   \n",
      "371                    UKR1           0          NaN                  0   \n",
      "389                    UKR1           0          NaN                  0   \n",
      "\n",
      "     foreigners_percentage  national_team_players  \\\n",
      "11                     NaN                      0   \n",
      "25                     NaN                      0   \n",
      "26                     NaN                      0   \n",
      "39                     NaN                      0   \n",
      "54                     NaN                      0   \n",
      "69                     NaN                      0   \n",
      "94                     NaN                      0   \n",
      "99                     NaN                      0   \n",
      "122                    NaN                      0   \n",
      "123                    NaN                      0   \n",
      "129                    NaN                      0   \n",
      "133                    NaN                      0   \n",
      "134                    NaN                      0   \n",
      "140                    NaN                      0   \n",
      "145                    NaN                      0   \n",
      "147                    NaN                      0   \n",
      "161                    NaN                      0   \n",
      "166                    NaN                      0   \n",
      "167                    NaN                      0   \n",
      "180                    NaN                      0   \n",
      "208                    NaN                      0   \n",
      "209                    NaN                      0   \n",
      "216                    NaN                      0   \n",
      "227                    NaN                      0   \n",
      "231                    NaN                      0   \n",
      "261                    NaN                      0   \n",
      "276                    NaN                      0   \n",
      "285                    NaN                      0   \n",
      "306                    NaN                      0   \n",
      "307                    NaN                      0   \n",
      "315                    NaN                      0   \n",
      "333                    NaN                      0   \n",
      "334                    NaN                      0   \n",
      "349                    NaN                      0   \n",
      "353                    NaN                      0   \n",
      "355                    NaN                      0   \n",
      "366                    NaN                      0   \n",
      "371                    NaN                      0   \n",
      "389                    NaN                      0   \n",
      "\n",
      "                                     stadium_name  stadium_seats  \\\n",
      "11                      Dimotiko Gipedo Perivolia           3700   \n",
      "25                                   Dnipro-Arena          31003   \n",
      "26                                       Avangard          10640   \n",
      "39                                Stadion Ukraina          28051   \n",
      "54                              Olympisch Stadion          12771   \n",
      "69                         Stade Charles Tondreau          12662   \n",
      "94                    Stadion im. Yuriya Gagarina          12060   \n",
      "99                               Stadio Mytilinis           4000   \n",
      "122                                        Obolon           5100   \n",
      "123                                  Harboe Arena          10000   \n",
      "129                                          Trud          10028   \n",
      "133                                 Daknamstadion          12000   \n",
      "134                            Gaziantep Stadyumu          33502   \n",
      "140                  Centro Desportivo da Madeira           2500   \n",
      "145                                Mordovia Arena          44442   \n",
      "147                      Zentralstadion Lokomotiv          17856   \n",
      "161                           Estádio CD das Aves           5441   \n",
      "166                                  OSK Metalist          38685   \n",
      "167                  Stadion im. Volodymyra Boyko          12680   \n",
      "180                                  Xanthi Arena           7361   \n",
      "208                                  Le Canonnier          10830   \n",
      "209                               Mersin Stadyumu          25000   \n",
      "216                                     Petrovsky          20985   \n",
      "227                        Dr. Necmettin Şeyhoğlu          12400   \n",
      "231                       NTK im. B. M. Bannikova           1678   \n",
      "261   RDYuSSh MinObrNauki RD Politekh Makhachkala           1600   \n",
      "276                                 SK Sevastopol           5826   \n",
      "285                                        Meteor          24381   \n",
      "306                                 Kuban Stadium          31654   \n",
      "307                    Republican Stadium Spartak          32464   \n",
      "315                              Stadion Avangard          12080   \n",
      "333                   Herman Vanderpoortenstadion          14538   \n",
      "334                                  RS Lokomotiv          19978   \n",
      "349  Kayseri Atatürk Spor Kompleksi Yan Açık Saha           2000   \n",
      "353                         Marcantonio Bentegodi          31045   \n",
      "355                                 NSK Olimpisky          70050   \n",
      "366                                Mordovia Arena          44149   \n",
      "371                               Slavutych Arena          11883   \n",
      "389                                      Metalurg           5090   \n",
      "\n",
      "    net_transfer_record  last_season  \\\n",
      "11                  +-0         2017   \n",
      "25              +€6.90m         2023   \n",
      "26                  +-0         2015   \n",
      "39                  +-0         2019   \n",
      "54                  +-0         2012   \n",
      "69                  +-0         2013   \n",
      "94                  +-0         2021   \n",
      "99                  +-0         2015   \n",
      "122                 +-0         2017   \n",
      "123                 +-0         2014   \n",
      "129                 +-0         2016   \n",
      "133                 +-0         2018   \n",
      "134                 +-0         2016   \n",
      "140                 +-0         2015   \n",
      "145                 +-0         2015   \n",
      "147                 +-0         2013   \n",
      "161                 +-0         2019   \n",
      "166                 +-0         2015   \n",
      "167              +€100k         2021   \n",
      "180                 +-0         2019   \n",
      "208               +€40k         2020   \n",
      "209                 +-0         2015   \n",
      "216                 +-0         2017   \n",
      "227                 +-0         2017   \n",
      "231                 +-0         2020   \n",
      "261                 +-0         2018   \n",
      "276                 +-0         2013   \n",
      "285                 +-0         2016   \n",
      "306                 +-0         2015   \n",
      "307                 +-0         2012   \n",
      "315                 +-0         2016   \n",
      "333                 +-0         2014   \n",
      "334                 +-0         2013   \n",
      "349                 +-0         2014   \n",
      "353                 +-0         2018   \n",
      "355                 +-0         2018   \n",
      "366                 +-0         2020   \n",
      "371                 +-0         2015   \n",
      "389                 +-0         2014   \n",
      "\n",
      "                                              filename  \\\n",
      "11   ../data/raw/transfermarkt-scraper/2017/clubs.j...   \n",
      "25   ../data/raw/transfermarkt-scraper/2023/clubs.j...   \n",
      "26   ../data/raw/transfermarkt-scraper/2015/clubs.j...   \n",
      "39   ../data/raw/transfermarkt-scraper/2019/clubs.j...   \n",
      "54   ../data/raw/transfermarkt-scraper/2012/clubs.j...   \n",
      "69   ../data/raw/transfermarkt-scraper/2013/clubs.j...   \n",
      "94   ../data/raw/transfermarkt-scraper/2021/clubs.j...   \n",
      "99   ../data/raw/transfermarkt-scraper/2015/clubs.j...   \n",
      "122  ../data/raw/transfermarkt-scraper/2017/clubs.j...   \n",
      "123  ../data/raw/transfermarkt-scraper/2014/clubs.j...   \n",
      "129  ../data/raw/transfermarkt-scraper/2016/clubs.j...   \n",
      "133  ../data/raw/transfermarkt-scraper/2018/clubs.j...   \n",
      "134  ../data/raw/transfermarkt-scraper/2016/clubs.j...   \n",
      "140  ../data/raw/transfermarkt-scraper/2015/clubs.j...   \n",
      "145  ../data/raw/transfermarkt-scraper/2015/clubs.j...   \n",
      "147  ../data/raw/transfermarkt-scraper/2013/clubs.j...   \n",
      "161  ../data/raw/transfermarkt-scraper/2019/clubs.j...   \n",
      "166  ../data/raw/transfermarkt-scraper/2015/clubs.j...   \n",
      "167  ../data/raw/transfermarkt-scraper/2021/clubs.j...   \n",
      "180  ../data/raw/transfermarkt-scraper/2019/clubs.j...   \n",
      "208  ../data/raw/transfermarkt-scraper/2020/clubs.j...   \n",
      "209  ../data/raw/transfermarkt-scraper/2015/clubs.j...   \n",
      "216  ../data/raw/transfermarkt-scraper/2017/clubs.j...   \n",
      "227  ../data/raw/transfermarkt-scraper/2017/clubs.j...   \n",
      "231  ../data/raw/transfermarkt-scraper/2020/clubs.j...   \n",
      "261  ../data/raw/transfermarkt-scraper/2018/clubs.j...   \n",
      "276  ../data/raw/transfermarkt-scraper/2013/clubs.j...   \n",
      "285  ../data/raw/transfermarkt-scraper/2016/clubs.j...   \n",
      "306  ../data/raw/transfermarkt-scraper/2015/clubs.j...   \n",
      "307  ../data/raw/transfermarkt-scraper/2012/clubs.j...   \n",
      "315  ../data/raw/transfermarkt-scraper/2016/clubs.j...   \n",
      "333  ../data/raw/transfermarkt-scraper/2014/clubs.j...   \n",
      "334  ../data/raw/transfermarkt-scraper/2013/clubs.j...   \n",
      "349  ../data/raw/transfermarkt-scraper/2014/clubs.j...   \n",
      "353  ../data/raw/transfermarkt-scraper/2018/clubs.j...   \n",
      "355  ../data/raw/transfermarkt-scraper/2018/clubs.j...   \n",
      "366  ../data/raw/transfermarkt-scraper/2020/clubs.j...   \n",
      "371  ../data/raw/transfermarkt-scraper/2015/clubs.j...   \n",
      "389  ../data/raw/transfermarkt-scraper/2014/clubs.j...   \n",
      "\n",
      "                                                   url  \n",
      "11   https://www.transfermarkt.co.uk/ao-platanias/s...  \n",
      "25   https://www.transfermarkt.co.uk/sk-dnipro-1/st...  \n",
      "26   https://www.transfermarkt.co.uk/goverla-uzhgor...  \n",
      "39   https://www.transfermarkt.co.uk/karpaty-lviv/s...  \n",
      "54   https://www.transfermarkt.co.uk/beerschot-ac/s...  \n",
      "69   https://www.transfermarkt.co.uk/raec-mons/star...  \n",
      "94   https://www.transfermarkt.co.uk/desna-chernigi...  \n",
      "99   https://www.transfermarkt.co.uk/ael-kalloni/st...  \n",
      "122  https://www.transfermarkt.co.uk/pfk-stal-kamya...  \n",
      "123  https://www.transfermarkt.co.uk/fc-vestsjaella...  \n",
      "129  https://www.transfermarkt.co.uk/tom-tomsk/star...  \n",
      "133  https://www.transfermarkt.co.uk/ksc-lokeren/st...  \n",
      "134  https://www.transfermarkt.co.uk/gaziantepspor/...  \n",
      "140  https://www.transfermarkt.co.uk/cf-uniao-madei...  \n",
      "145  https://www.transfermarkt.co.uk/mordovia-saran...  \n",
      "147  https://www.transfermarkt.co.uk/volga-nizhniy-...  \n",
      "161  https://www.transfermarkt.co.uk/desportivo-ave...  \n",
      "166  https://www.transfermarkt.co.uk/metalist-khark...  \n",
      "167  https://www.transfermarkt.co.uk/fk-mariupol/st...  \n",
      "180  https://www.transfermarkt.co.uk/ao-xanthi/star...  \n",
      "208  https://www.transfermarkt.co.uk/royal-excel-mo...  \n",
      "209  https://www.transfermarkt.co.uk/mersin-idmanyu...  \n",
      "216  https://www.transfermarkt.co.uk/fk-tosno/start...  \n",
      "227  https://www.transfermarkt.co.uk/kardemir-karab...  \n",
      "231  https://www.transfermarkt.co.uk/olimpik-donets...  \n",
      "261  https://www.transfermarkt.co.uk/anzhi-makhachk...  \n",
      "276  https://www.transfermarkt.co.uk/fk-sevastopol/...  \n",
      "285  https://www.transfermarkt.co.uk/dnipro-dniprop...  \n",
      "306  https://www.transfermarkt.co.uk/kuban-krasnoda...  \n",
      "307  https://www.transfermarkt.co.uk/spartak-vladik...  \n",
      "315  https://www.transfermarkt.co.uk/volyn-lutsk/st...  \n",
      "333  https://www.transfermarkt.co.uk/lierse-sk/star...  \n",
      "334  https://www.transfermarkt.co.uk/sk-tavriya-sim...  \n",
      "349  https://www.transfermarkt.co.uk/kayseri-erciye...  \n",
      "353  https://www.transfermarkt.co.uk/chievo-verona/...  \n",
      "355  https://www.transfermarkt.co.uk/arsenal-kiew/s...  \n",
      "366  https://www.transfermarkt.co.uk/pfk-tambov/sta...  \n",
      "371  https://www.transfermarkt.co.uk/metalurg-zapor...  \n",
      "389  https://www.transfermarkt.co.uk/metalurg-donet...  \n"
     ]
    }
   ],
   "source": [
    "print(clubs[clubs.isnull().any(axis=1)])"
   ]
  },
  {
   "cell_type": "code",
   "execution_count": 145,
   "id": "fe2274e5-366d-44fb-b593-2dc1432cdc4b",
   "metadata": {},
   "outputs": [
    {
     "name": "stdout",
     "output_type": "stream",
     "text": [
      "Empty DataFrame\n",
      "Columns: [club_id, club_code, name, domestic_competition_id, total_market_value, squad_size, average_age, foreigners_number, foreigners_percentage, national_team_players, stadium_name, stadium_seats, net_transfer_record, coach_name, last_season, filename, url]\n",
      "Index: []\n"
     ]
    }
   ],
   "source": [
    "print(clubs[~clubs.isnull().any(axis=1)])"
   ]
  },
  {
   "cell_type": "code",
   "execution_count": 147,
   "id": "f28fabb0-04a0-4e1b-a4f9-b699be2684b3",
   "metadata": {},
   "outputs": [],
   "source": [
    "clubs = clubs.drop(columns=['total_market_value', 'coach_name']) # since total_market_value and coach_name have all cells empty we can drop them"
   ]
  },
  {
   "cell_type": "code",
   "execution_count": null,
   "id": "bcb50cc8-3f1a-4cd8-9c2c-81fefd53df48",
   "metadata": {},
   "outputs": [],
   "source": [
    "columns_to_update = [\n",
    "    'own_manager_name', \n",
    "    'opponent_manager_name'\n",
    "]\n",
    "\n",
    "clubs[columns_to_update] = clubs[columns_to_update].fillna('unknown')"
   ]
  },
  {
   "cell_type": "code",
   "execution_count": 155,
   "id": "78b614aa-6171-47c6-82c4-6b6eac15563f",
   "metadata": {},
   "outputs": [],
   "source": [
    "clubs[\"foreigners_percentage\"] = ((clubs[\"foreigners_number\"] / clubs[\"squad_size\"]) * 100).round(1)"
   ]
  },
  {
   "cell_type": "markdown",
   "id": "106d2e85-b70f-48ef-a452-8541b23eae58",
   "metadata": {},
   "source": [
    "### We have tried to fill empty foreigners_percentage by using foreigners_number and squad_size. but for some rows both of them are zeros. for a club to novt have these numbers filled. using that kind of data is not good practice. so we can drop those rows"
   ]
  },
  {
   "cell_type": "code",
   "execution_count": 166,
   "id": "3277011d-ec38-4997-a363-935c29aefb27",
   "metadata": {},
   "outputs": [],
   "source": [
    "clubs = clubs.dropna(subset=['foreigners_percentage'])"
   ]
  },
  {
   "cell_type": "code",
   "execution_count": 171,
   "id": "ba2b08d4-dc82-45d3-8af7-5933f208e918",
   "metadata": {},
   "outputs": [
    {
     "name": "stdout",
     "output_type": "stream",
     "text": [
      "club_id                    0\n",
      "club_code                  0\n",
      "name                       0\n",
      "domestic_competition_id    0\n",
      "squad_size                 0\n",
      "average_age                0\n",
      "foreigners_number          0\n",
      "foreigners_percentage      0\n",
      "national_team_players      0\n",
      "stadium_name               0\n",
      "stadium_seats              0\n",
      "net_transfer_record        0\n",
      "last_season                0\n",
      "filename                   0\n",
      "url                        0\n",
      "dtype: int64\n"
     ]
    }
   ],
   "source": [
    "print(clubs.isna().sum())"
   ]
  },
  {
   "cell_type": "markdown",
   "id": "e2d35f96-e412-4ea9-9c57-735bdfee0740",
   "metadata": {},
   "source": [
    "### Now we dont have any null cells in clubs dataframe"
   ]
  },
  {
   "cell_type": "code",
   "execution_count": 95,
   "id": "ecf7aaad-0d63-4343-bfa8-c474667ec0ec",
   "metadata": {},
   "outputs": [
    {
     "name": "stdout",
     "output_type": "stream",
     "text": [
      "game_id                   0\n",
      "competition_id            0\n",
      "season                    0\n",
      "round                     0\n",
      "date                      0\n",
      "home_club_id              0\n",
      "away_club_id              0\n",
      "home_club_goals           0\n",
      "away_club_goals           0\n",
      "home_club_position        0\n",
      "away_club_position        0\n",
      "home_club_manager_name    0\n",
      "away_club_manager_name    0\n",
      "stadium                   0\n",
      "attendance                0\n",
      "referee                   0\n",
      "url                       0\n",
      "home_club_formation       0\n",
      "away_club_formation       0\n",
      "home_club_name            0\n",
      "away_club_name            0\n",
      "aggregate                 0\n",
      "competition_type          0\n",
      "dtype: int64\n"
     ]
    }
   ],
   "source": [
    "print(games.isna().sum())"
   ]
  },
  {
   "cell_type": "markdown",
   "id": "7d4b9c90-f985-4c17-b0ed-4b12da41c2f2",
   "metadata": {},
   "source": [
    "# Merging dataframes:  club_games, clubs and games"
   ]
  },
  {
   "cell_type": "code",
   "execution_count": 174,
   "id": "801781f5-ec3c-4bef-a4bc-490cc88f687c",
   "metadata": {},
   "outputs": [],
   "source": [
    "club_performance = pd.merge(club_games , clubs, on = 'club_id')"
   ]
  },
  {
   "cell_type": "code",
   "execution_count": 176,
   "id": "3046c47e-c9d4-4441-a00d-bfe0282906b0",
   "metadata": {},
   "outputs": [],
   "source": [
    "club_performance = pd.merge(club_performance , games, on = 'game_id')"
   ]
  },
  {
   "cell_type": "code",
   "execution_count": 184,
   "id": "71f0c640-c7c4-4cf0-88ee-c6ab56987638",
   "metadata": {},
   "outputs": [
    {
     "name": "stdout",
     "output_type": "stream",
     "text": [
      "Index(['game_id', 'club_id', 'own_goals', 'own_position', 'own_manager_name',\n",
      "       'opponent_id', 'opponent_goals', 'opponent_position',\n",
      "       'opponent_manager_name', 'hosting', 'is_win', 'club_code', 'name',\n",
      "       'domestic_competition_id', 'squad_size', 'average_age',\n",
      "       'foreigners_number', 'foreigners_percentage', 'national_team_players',\n",
      "       'stadium_name', 'stadium_seats', 'net_transfer_record', 'last_season',\n",
      "       'filename', 'url_x', 'competition_id', 'season', 'round', 'date',\n",
      "       'home_club_id', 'away_club_id', 'home_club_goals', 'away_club_goals',\n",
      "       'home_club_position', 'away_club_position', 'home_club_manager_name',\n",
      "       'away_club_manager_name', 'stadium', 'attendance', 'referee', 'url_y',\n",
      "       'home_club_formation', 'away_club_formation', 'home_club_name',\n",
      "       'away_club_name', 'aggregate', 'competition_type'],\n",
      "      dtype='object')\n"
     ]
    }
   ],
   "source": []
  },
  {
   "cell_type": "code",
   "execution_count": null,
   "id": "371f5fc7-f95a-47cf-a1a3-0e12dfac378a",
   "metadata": {},
   "outputs": [],
   "source": []
  },
  {
   "cell_type": "code",
   "execution_count": 186,
   "id": "75ccdab7-8230-4193-ae11-1af13a4488db",
   "metadata": {},
   "outputs": [
    {
     "name": "stdout",
     "output_type": "stream",
     "text": [
      "player_id                  0\n",
      "transfer_date              0\n",
      "transfer_season            0\n",
      "from_club_id               0\n",
      "to_club_id                 0\n",
      "from_club_name             0\n",
      "to_club_name               0\n",
      "transfer_fee           27299\n",
      "market_value_in_eur    29813\n",
      "player_name                0\n",
      "dtype: int64\n"
     ]
    }
   ],
   "source": []
  },
  {
   "cell_type": "code",
   "execution_count": 190,
   "id": "de5151f4-633f-4fe0-ba75-cc593627142c",
   "metadata": {},
   "outputs": [],
   "source": [
    "total_goals = player_performance.groupby('player_name')['goals'].sum().reset_index()"
   ]
  },
  {
   "cell_type": "code",
   "execution_count": 208,
   "id": "a8bea510-6307-43f7-8fab-6237121eb350",
   "metadata": {},
   "outputs": [
    {
     "name": "stdout",
     "output_type": "stream",
     "text": [
      "              player_name  goals\n",
      "19857  Robert Lewandowski    490\n"
     ]
    }
   ],
   "source": [
    "print(total_goals[total_goals['player_name'] == 'Robert Lewandowski'])"
   ]
  },
  {
   "cell_type": "code",
   "execution_count": 210,
   "id": "ce6692e6-8d0b-49cb-b254-1fd13748c2c4",
   "metadata": {},
   "outputs": [
    {
     "data": {
      "image/png": "[encoded data removed]",
      "text/plain": [
       "<Figure size 640x480 with 1 Axes>"
      ]
     },
     "metadata": {},
     "output_type": "display_data"
    }
   ],
   "source": [
    "top_scorers = total_goals.sort_values(by='goals', ascending=False).head(10)\n",
    "sns.barplot(x='goals', y='player_name', data=top_scorers)\n",
    "plt.title('Top 10 Goal Scorers')\n",
    "plt.show()"
   ]
  },
  {
   "cell_type": "code",
   "execution_count": null,
   "id": "c1a51d16-be41-497d-8010-99f4e6d64c70",
   "metadata": {},
   "outputs": [],
   "source": []
  }
 ],
 "metadata": {
  "kernelspec": {
   "display_name": "Python [conda env:base] *",
   "language": "python",
   "name": "conda-base-py"
  },
  "language_info": {
   "codemirror_mode": {
    "name": "ipython",
    "version": 3
   },
   "file_extension": ".py",
   "mimetype": "text/x-python",
   "name": "python",
   "nbconvert_exporter": "python",
   "pygments_lexer": "ipython3",
   "version": "3.12.7"
  }
 },
 "nbformat": 4,
 "nbformat_minor": 5
}
